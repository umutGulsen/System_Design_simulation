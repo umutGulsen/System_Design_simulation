{
  "nbformat": 4,
  "nbformat_minor": 0,
  "metadata": {
    "colab": {
      "name": "MEY_SIM_lean_with_counter_and_truck_constraint.ipynb",
      "provenance": [],
      "collapsed_sections": []
    },
    "kernelspec": {
      "name": "python3",
      "display_name": "Python 3"
    }
  },
  "cells": [
    {
      "cell_type": "markdown",
      "metadata": {
        "id": "CE4xuPPxu0_T"
      },
      "source": [
        "#MEY | DIAGEO - METU System Design Project Heuristic Procedure Source Code **v 1.0**\n",
        "- 3 alternatives of dedicated only, spot only and hybrid exist in this version\n",
        "- Operations are done in morning and noon times twice a day. This is where the statistics are also collected\n",
        "- Relevant performance measures can be calculated\n",
        "- The code is split into 3 parts: Classes&Functions, Initializations and the Simulation. Later two parts are to be combined for serial testing and assesment\n",
        "- Demand generation is based on frequency and quantity of the customers (see TBD 1)\n",
        "- Service level calculations look for maximum of accumulated orders\n",
        "- ZM's are special with their service level and benefit calculations\n",
        "- Spot vehicle return time is tied to a seasonality factor which currently is static at 0.2\n",
        "- All initial vehicle allocations are done considering no exit point should be left without vehicle \n",
        "- Contracted spot routes are assigned to spot vehicles after a routing is complete (Hybrid case) (see TBD 5)\n",
        "#TO BE DONE:\n",
        "- ***[WIP]TBD 0 New files are not added (distance, material)\n",
        "- TBD 1 Demand data should be randomized and should come from customer segmentation with built-in seasonality. \n",
        "- ***[WIP] TBD 2 Tweaks to be done via genetic algorithm is not parametrized yet.\n",
        "- TBD 3 Customers that have to be visited by lorries are not differentiated\n",
        "- TBD 4 A counter for the number of times a route is used\n",
        "- TBD 5 An alternative where cont. spot deliveries are planned beforehand \n",
        "- TBD 6 Automatic collection and assesment of the perf. measures\n",
        "- TBD 7 Material shipment logic is not implemented\n",
        "- TBD 8 Days since shipment can be held for each supply point (Satisfying a customer should depend on its problematic shipment not any shipment)\n",
        "- TBD 9 Scenario where factories have dedicated vehicles\n",
        "- ***[WIP]TBD 11 Test removing region restrictions since demand is kept seperately anyway\n",
        "- TBD 12 Time windows are not added "
      ]
    },
    {
      "cell_type": "code",
      "metadata": {
        "colab": {
          "base_uri": "https://localhost:8080/"
        },
        "id": "27gwbs8nv84R",
        "outputId": "fed34eb9-4860-440a-b642-006191aaef04"
      },
      "source": [
        "from google.colab import drive\n",
        "drive.mount('/content/drive')"
      ],
      "execution_count": 1,
      "outputs": [
        {
          "output_type": "stream",
          "text": [
            "Mounted at /content/drive\n"
          ],
          "name": "stdout"
        }
      ]
    },
    {
      "cell_type": "code",
      "metadata": {
        "id": "Er2sSHW_WyhY"
      },
      "source": [
        "!pip install optuna"
      ],
      "execution_count": null,
      "outputs": []
    },
    {
      "cell_type": "code",
      "metadata": {
        "id": "oVInfx6rw4IM"
      },
      "source": [
        "%reset -f"
      ],
      "execution_count": null,
      "outputs": []
    },
    {
      "cell_type": "code",
      "metadata": {
        "id": "OyBkhEXoJe10"
      },
      "source": [
        "import numpy as np\n",
        "import pandas as pd\n",
        "import matplotlib.pyplot as plt\n",
        "from matplotlib.pyplot import figure\n",
        "\n"
      ],
      "execution_count": 2,
      "outputs": []
    },
    {
      "cell_type": "markdown",
      "metadata": {
        "id": "Y87euBldJqLq"
      },
      "source": [
        "******\n",
        "CLASSES AND FUNCTIONS\n",
        "******"
      ]
    },
    {
      "cell_type": "code",
      "metadata": {
        "id": "KyesdfocJ0B1"
      },
      "source": [
        "class vehicle():\n",
        "    def __init__(self, tipp, plate, spot, base):\n",
        "        self.stat = \"wh\"                    # status of the vehicle - this is not used - may be necessary later for dynamic tracking\n",
        "        self.returned = True                # a vehicle is eligible for deliveries if this is true\n",
        "        self.speed = 60                     # km/h is used for speed - currently static and never change within the code\n",
        "        self.spot_factor = 1                # currently not used - intention was to multiply travel duration with this number to differentiate spot vehicle return time \n",
        "        self.plate = plate                  # plate number - will include inforamtion regarding its type\n",
        "        self.spot = spot                    # indicates if a vehicle is a spot vehicle\n",
        "        self.base = base                    # base exit point of the vehicle\n",
        "        self.base_index = self.base.index   # index of the base - this calculated once here so that the base is not constantly called for its index\n",
        "        self.tip = tipp                     # type of vehicle (truck or lorry)\n",
        "        if tipp == \"T\":   self.cap = 33;        self.cost = 2.81; self.rem_cap = 33 # capacity, cost/km and capacity initializations according to their types (truck or lorry)\n",
        "        else:             self.cap = 18;        self.cost = 2.48; self.rem_cap = 18\n",
        "\n",
        "class make_fleet():\n",
        "    def __init__(self, vehicles):   # vehicle array is given for the initialization of the fleet instance\n",
        "        self.v = vehicles;        self.available_truck=0;        self.available_lorry=0 # actual available vehicle numbers are calculated in the next loop\n",
        "        for vehicle in self.v:\n",
        "            if vehicle.tip == \"T\":          self.available_truck+=1\n",
        "            if vehicle.tip == \"K\":          self.available_lorry+=1\n",
        "        self.havetruck = (self.available_truck > 0 )    # binary variables indicating the availability of vehicle types\n",
        "        self.havelorry = (self.available_lorry > 0 )\n",
        "    def v_left(self, v):            # relevant updates when a vehicle leaves\n",
        "        if v.tip == \"T\": self.available_truck-=1;        \n",
        "        else:  self.available_lorry-=1    \n",
        "    def v_return(self, v):          # similar to above for returning vehicle\n",
        "        if v.tip == \"T\":            self.available_truck+=1\n",
        "        else:                       self.available_lorry+=1\n",
        "    def avail_check(self):          # update for the binary availability variables\n",
        "        self.havetruck = (self.available_truck > 0 )\n",
        "        self.havelorry = (self.available_lorry > 0 )\n",
        "\n",
        "class location():\n",
        "    def __init__(self,name, tip, ind):\n",
        "        self.name=name;        self.tip=tip;     self.index = ind; self.serviceLevel = [] # tip refers to customer type (distributor, zm, warehouse)\n",
        "        self.acc_orders = [0,0,0,0,0,0,0];  self.days_since_ship = 0; self.passive = True  # acc_orders are 7 supply spoints (Geb, Nev, Ala, Bil, Şar, Mer)\n",
        "        self.tr_o=0;\n",
        "    # days_since_ship is used for delivery time calculations\n",
        "    # passive is for eliminating no delivery locations from performance measure calculations\n",
        "    def shipment_received(self):    # when any shipment is planned for the location, days since shipment is set to zero (See TBD 8)\n",
        "        self.days_since_ship = 0\n",
        "    def dayPassed(self):            # when a day passes and customer has demand above a certain number (conditions on when this function is called should examined below)\n",
        "        self.days_since_ship += 1\n",
        "    def w_o_truck(self,tr_dat):\n",
        "        for i in range(len(tr_dat['Location'])):\n",
        "            if tr_dat['Location'][i]==self.name:\n",
        "                self.tr_o=tr_dat['Without truck'][i]\n",
        "\n",
        "\n",
        "class output_statistic():           # this class holds various statistics regarding a shipment - created to simplfy the find_route function\n",
        "    def __init__(self, quantities, veh, isinbound, distancesArr, totalemptydist, totDist):\n",
        "        fillOfTravel = fill_rate(quantities, veh.cap, isinbound) # see fill_rate function for details\n",
        "        fillbin = fill_rate_binary(quantities, isinbound)        # see fill_rate_binary function for details\n",
        "        self.mean_fill = np.inner(fillOfTravel, distancesArr) / (sum(distancesArr)+.1) # calculations for generalized statistics components \n",
        "        self.mean_fill_bin = np.inner(fillbin, distancesArr) / (sum(distancesArr)+.1)  # +.1 prevents division by zero\n",
        "        self.emptyDistRate = totalemptydist / (totDist+.1)\n",
        "\n",
        "def load_distances (data_load, dist_df):    # preprocesing of the distance matrix\n",
        "    total_locs = dist_df.shape[0]           # find the size of the matrix\n",
        "    dis = np.zeros((total_locs,total_locs)) # empty matrix to be filled\n",
        "    for i in range (total_locs):\n",
        "        dis[i] = dist_df.iloc[i][1:total_locs+1]    # cleans out unused parts from the input\n",
        "    data_load['distance_matrix'] = dis              # adds distances to the data dictionary\n",
        "    return data_load                                # returns the dictionary\n",
        "\n",
        "def load_demands (data_dem, customers, i):  # similar to the above function\n",
        "    dem = []\n",
        "    for loc in customers:\n",
        "        dem.append(loc.acc_orders[i])\n",
        "    data_dem['demands'] = dem\n",
        "    return data_dem\n",
        "\n",
        "def load_benefits_start(depots, plan):                      # inputs are the possible exit points and the vehicle allocation plan\n",
        "    supply_point_number = 3 if plan == \"ded_only\" else 7    # dedicated only scenario does not consider factories as possible exit points (see TBD 9)\n",
        "    benefits=[[] for i in range(supply_point_number)]       # benefit array starts empty for each exit point\n",
        "    cur_max = [0 for i in range(supply_point_number)]       # each supply points champion benefit value is initially number\n",
        "    cur_max_ind = [-1 for i in range(supply_point_number)]  # each suply points champion point is initialized as -1   \n",
        "    for i in depots:                                        # note that for exit points not in the depots array, it is impossible for them to be selected from this function\n",
        "        for k in range(len(customers)): benefits[i].append(0) # each benfit value is started as 0\n",
        "        # note that previous for loop ends here but the outer one continues\n",
        "        if i < 3:                       # for the warehouses' internal(wh->wh[for pickup] or wh->fac ) deliveries only\n",
        "            for j in  range(7):         # for each supply point\n",
        "                j_cus = j               # converting the numbers to use in distance matrix - see TBD 10\n",
        "                if j == 3: j_cus = 164\n",
        "                if j == 4: j_cus = 163\n",
        "                if j == 5: j_cus = 166\n",
        "                if j == 6: j_cus = 165\n",
        "                multiplier = .7 if plan == \"hybrid\" else 1  # benefit multiplier for return trip locations - should be less encouraged for scenarios where every supply point has a vehicle(e.g hybrid)\n",
        "                benefits[i][j_cus] += multiplier*1000 * int(customers[i+168].acc_orders[j]) / (data[\"distance_matrix\"][i][j_cus] + 1 ) #accumulated order/distance for benefit heuristic\n",
        "        for locat in customers:        # for external logistics (wh->wh[for delivery], wh -> customer)\n",
        "            k = locat.index\n",
        "            benefits[i][k] +=  1000 * int(locat.acc_orders[i]) / (data[\"distance_matrix\"][wh_ind[i]][k] + 1)\n",
        "            if dist_df.iloc[k][\"belongs\"] == i:          # locations in supply points' assigned region should get prioritized - see TBD 11\n",
        "                benefits[i][k] *= 2 \n",
        "            else:                                        # locations not in supply points' assigned region should be less prioritized - see TBD 11\n",
        "                benefits[i][k] *= .5 \n",
        "            if k in [0,1,2,164,163,166,165,168,169,170]: # compensation for internal logistics since region restrictions have negative effects on these\n",
        "                benefits[i][k] *= 2\n",
        "            if locat.tip == \"zm\":       benefits[i][k] *= 1.2 + .5 *locat.days_since_ship # benefit adjustment for days since shipment to prioritize - zms are critically affected\n",
        "            else:                       benefits[i][k] *= 1   + .1 *locat.days_since_ship # these multipliers are subject to change and optimization - see TBD 2\n",
        "\n",
        "        if i > 2 : benefits[i] = [2*q for q in benefits[i]] # doubles the benefit value for factories since their benefit values are less due to region mulitpliers\n",
        "        cur_max[i] = np.max(benefits[i])                    # each supply point presents their champion\n",
        "        cur_max_ind[i] = int(np.argmax(benefits[i]))        # each supply points' champions' indexes are kept\n",
        "    chosen_wh_ind = int(np.argmax(cur_max))                 # most beneficial champion's exit point is selected\n",
        "    chosen_dest_ind = cur_max_ind[chosen_wh_ind]            # most beneficial champion's index\n",
        "    return [cur_max[chosen_wh_ind], chosen_wh_ind, chosen_dest_ind] # returns the final champion's benefit for threshold check and exit-destination pair\n",
        "\n",
        "def load_benefits_start_spot(depots):       # similar function as above but for spot_only scenario - pickup portions are removed since they are not possible with spot\n",
        "    benefits=[[] for i in range(7)]\n",
        "    cur_max = [0 for i in range(7)]\n",
        "    cur_max_ind = [-1 for i in range(7)]\n",
        "    for i in depots:\n",
        "        for k in range(len(customers)): benefits[i].append(0)\n",
        "        #outbound\n",
        "        for locat in customers:\n",
        "            k = locat.index\n",
        "            locat.w_o_truck(woTr)\n",
        "            benefits[i][k] +=  1000 * int(locat.acc_orders[i]) / (data[\"distance_matrix\"][wh_ind[i]][k] + 0.1)\n",
        "            if dist_df.iloc[k][\"belongs\"] == i:\n",
        "                benefits[i][k] *= 2 \n",
        "            else:\n",
        "                benefits[i][k] *= .5 \n",
        "            if k in [0,1,2,164,163,166,165,168,169,170]:\n",
        "                benefits[i][k] *= 2 \n",
        "            if locat.tip == \"zm\":       benefits[i][k] *= 1.2 + .5 *locat.days_since_ship\n",
        "            else:                       benefits[i][k] *= 1   + .1 *locat.days_since_ship\n",
        "        cur_max[i] = np.max(benefits[i])\n",
        "        cur_max_ind[i] = int(np.argmax(benefits[i]))\n",
        "    chosen_wh_ind = int(np.argmax(cur_max))\n",
        "    chosen_dest_ind = cur_max_ind[chosen_wh_ind]\n",
        "    return [cur_max[chosen_wh_ind], chosen_wh_ind, chosen_dest_ind]\n",
        "\n",
        "def find_vehicle(chosen_wh_ind, chosen_dest_ind, lookForSpot):\n",
        "    i = chosen_wh_ind\n",
        "    j = chosen_dest_ind\n",
        "    for locat in customers:\n",
        "      if locat.index==j:\n",
        "        tr_avail=locat.tr_o\n",
        "    q = customers[chosen_dest_ind].acc_orders[i]        # quantity that is desired to be carried\n",
        "    vehiclefound=False                                  # start as false - it should remain as such until a cehicle is found\n",
        "    limitForTruck = [0 if lookForSpot else 8][0]        # should never look for lorry if a spot vehicle is needed since there aren't any spot lorries\n",
        "    if q > limitForTruck or (chosen_dest_ind in [0,1,2,164,163,166,165]): # internal logistics are always done via trucks since their quantities are not directly demand-dependent\n",
        "        if fleets[i].havetruck and (not tr_avail):  desired = \"T\"\n",
        "        elif lookForSpot:                           # note that lookForSpot is given as true is there are no available dedicated trucks (for hybrid case) (see main simulation below)\n",
        "            for v in spot_fleets[i].v:              # searches for an available spot vehicle\n",
        "                if not vehiclefound and v.returned:\n",
        "                    v.returned = False\n",
        "                    spot_fleets[i].v_left(v); spot_fleets[i].avail_check()\n",
        "                    vehiclefound=True\n",
        "                    return v                        # function ends here if a vehicle is found\n",
        "            if (not vehiclefound) and (tr_avail): desired = \"K\"      # truck was desired but not found, then look for a lorry\n",
        "        else:     desired = \"K\"                     # truck was desired but none are in the fleet, then look for a lorry\n",
        "    else: desired = \"K\"                             # if quantity is low and it is external shipment, look for a lorry\n",
        "    for v in fleets[i].v:                           # for dedicated vehicle search and assignment\n",
        "        if v.returned and v.tip == desired and not vehiclefound:\n",
        "            v.returned = False\n",
        "            fleets[i].v_left(v); fleets[i].avail_check()\n",
        "            vehiclefound=True\n",
        "            return v\n",
        "    if not vehiclefound: return 0\n",
        "\n",
        "def load_benefits_route(cur_loc, vhc, routeSoFar, is_spot): # benefit assesment for destination selection while moving through the route\n",
        "    wh_i = vhc.base_index                   \n",
        "    if vhc.base_index == 164: wh_i = 3\n",
        "    if vhc.base_index == 163: wh_i = 4\n",
        "    if vhc.base_index == 166: wh_i = 5\n",
        "    if vhc.base_index == 165: wh_i = 6      # conversion for indices - see TBD 10\n",
        "    benefits= []                            # similar initializations as the function above but for a single exit point\n",
        "    cur_max = []\n",
        "    cur_max_ind = []\n",
        "    i = vhc.base_index\n",
        "    if cur_loc in [0,1,2, 164, 163, 166,165]: # if you are at a pickup location, return fail so returning trip is set up in the outer function (find_route)\n",
        "        return \"fail\"\n",
        "    else:\n",
        "        for locat in customers:\n",
        "            if (vhc.tip == 'T'): \n",
        "                if locat.index not in routeSoFar:\n",
        "                    if locat.tr_o:\n",
        "                        benefits.append(0);\n",
        "                    else:\n",
        "                        benefits.append( 1000 * np.min([int(locat.acc_orders[wh_i]), vhc.rem_cap]) / ((data[\"distance_matrix\"][cur_loc][locat.index]) + 0.01) )\n",
        "                        if dist_df.iloc[locat.index][\"belongs\"] == i:   benefits[locat.index] *=  2 # locations in supply points' assigned region should get prioritized - see TBD 11\n",
        "                        else:                                           benefits[locat.index] *= .5 # locations not in supply points' assigned region should be less prioritized - see TBD 11\n",
        "                        if locat.tip == \"zm\":       benefits[locat.index] *= 1.1 + .15 * locat.days_since_ship   # less severe differences and effects since route planning should be more distnce focused\n",
        "                        else:                       benefits[locat.index] *= 1   + .1  * locat.days_since_ship  \n",
        "                        if locat.index  in [0,1,2,164,163,166,165] and not is_spot: # for pick up locations\n",
        "                            j_cus = locat.index\n",
        "                            if locat.index == 164: j_cus = 3\n",
        "                            if locat.index == 163: j_cus = 4\n",
        "                            if locat.index == 166: j_cus = 5\n",
        "                            if locat.index == 165: j_cus = 6    # conversion for indices - see TBD 10\n",
        "                            benefits[locat.index] =  1000 * customers[i+168].acc_orders[j_cus] / ((data[\"distance_matrix\"][cur_loc][locat.index])**1.2 + 0.01)\n",
        "                            benefits[locat.index] *= (2*vhc.cap - vhc.rem_cap)/vhc.cap  # pickup locations should be more desirable for a vehicle using most of its capacity so return trips are utilized without delivery trip sacrifice\n",
        "                        elif locat.index  in [168,169,170] and not is_spot:         \n",
        "                            benefits[locat.index] = benefits[locat.index] * 4           # compensation for regional multiplier for factories    \n",
        "                            if len(routeSoFar) < 4:                                     # if a return trip is still possible, warehouses' receiver clones should get pick up benefit as well\n",
        "                                benefits[locat.index] += benefits[locat.index - 168]    \n",
        "                else:               # if a place is already visited give its benefit as 0\n",
        "                    benefits.append(0)\n",
        "            else:\n",
        "                if locat.index not in routeSoFar:\n",
        "                    benefits.append( 1000 * np.min([int(locat.acc_orders[wh_i]), vhc.rem_cap]) / ((data[\"distance_matrix\"][cur_loc][locat.index]) + 0.01) )\n",
        "                    if dist_df.iloc[locat.index][\"belongs\"] == i:   benefits[locat.index] *=  2 # locations in supply points' assigned region should get prioritized - see TBD 11\n",
        "                    else:                                           benefits[locat.index] *= .5 # locations not in supply points' assigned region should be less prioritized - see TBD 11\n",
        "                    if locat.tip == \"zm\":       benefits[locat.index] *= 1.1 + .15 * locat.days_since_ship   # less severe differences and effects since route planning should be more distnce focused\n",
        "                    else:                       benefits[locat.index] *= 1   + .1  * locat.days_since_ship  \n",
        "                    if locat.index  in [0,1,2,164,163,166,165] and not is_spot: # for pick up locations\n",
        "                        j_cus = locat.index\n",
        "                        if locat.index == 164: j_cus = 3\n",
        "                        if locat.index == 163: j_cus = 4\n",
        "                        if locat.index == 166: j_cus = 5\n",
        "                        if locat.index == 165: j_cus = 6    # conversion for indices - see TBD 10\n",
        "                        benefits[locat.index] =  1000 * customers[i+168].acc_orders[j_cus] / ((data[\"distance_matrix\"][cur_loc][locat.index])**1.2 + 0.01)\n",
        "                        benefits[locat.index] *= (2*vhc.cap - vhc.rem_cap)/vhc.cap  # pickup locations should be more desirable for a vehicle using most of its capacity so return trips are utilized without delivery trip sacrifice\n",
        "                    elif locat.index  in [168,169,170] and not is_spot:         \n",
        "                        benefits[locat.index] = benefits[locat.index] * 4           # compensation for regional multiplier for factories    \n",
        "                        if len(routeSoFar) < 4:                                     # if a return trip is still possible, warehouses' receiver clones should get pick up benefit as well\n",
        "                            benefits[locat.index] += benefits[locat.index - 168]    \n",
        "                else:               # if a place is already visited give its benefit as 0\n",
        "                    benefits.append(0)\n",
        "\n",
        "        cur_max = (np.max(benefits))\n",
        "        cur_max_ind = (int(np.argmax(benefits)))\n",
        "        if cur_max > thresholds[wh_i]:              # check for the benefit threshold for the champion\n",
        "            return cur_max_ind\n",
        "        else: return \"fail\"                         # if champion is a failure this later removes this exit point from the list\n",
        "\n",
        "def find_route(strprint, v, current_loc_ind, spot): # after exit point, 1st destionation and vehicle is found, this function constructs the whole route \n",
        "    wh_index = v.base_index\n",
        "    if v.base_index == 164: wh_index = 3\n",
        "    if v.base_index == 163: wh_index = 4\n",
        "    if v.base_index == 166: wh_index = 5\n",
        "    if v.base_index == 165: wh_index = 6        # conversion for indices - see TBD 10\n",
        "    routeLimit= 7\n",
        "    routes    = []\n",
        "    quants    = []\n",
        "    distances = []\n",
        "    totalEmptyDistance = 0\n",
        "    routes.append(v.base_index)                     # start the route with the base\n",
        "    distance = data[\"distance_matrix\"][v.base_index][current_loc_ind]       #first piece of the distance\n",
        "    total_distance =  distance\n",
        "    distances.append(distance)                      # save the distance in the distances array for performance measure calculation\n",
        "    if current_loc_ind in [0,1,2, 164, 163, 166,165]: totalEmptyDistance += distance    # if going for pickup, it is an empty travel\n",
        "    routes.append(current_loc_ind)                  # since the first destination is known(as current_loc_ind) before the call to this function, add it to the route\n",
        "    customers[current_loc_ind].shipment_received()  # have the customer satisfied\n",
        "    next_target = current_loc_ind                   # set the next_target (no reason other than the strcuture of the following loop)\n",
        "    inbound = False                                 # for the statistics collection (changes the return to a full loaded trip)\n",
        "    while True:     #loop is only broken by break command\n",
        "        if next_target in [0,1,2, 164, 163, 166,165]:   # if your current location is a pick up point\n",
        "            j_cus = next_target\n",
        "            if next_target == 164: j_cus = 3\n",
        "            if next_target == 163: j_cus = 4\n",
        "            if next_target == 166: j_cus = 5\n",
        "            if next_target == 165: j_cus = 6        # conversion for indices - see TBD 10\n",
        "            quant = v.cap                           # internal logistics are always fully loaded since their quantities are not directly demand-dependent\n",
        "            quants.append(0)                        # going empty to the pickup(supply) point\n",
        "            customers[v.base_index+168].acc_orders[j_cus] -= quant                      # this exit point's receiver clone should have its demand reduced since there is a bring-back\n",
        "            strprint += \" -> \" + customers[next_target].name + \"(given:\" + \"0\" + \")\"    \n",
        "            distance = data[\"distance_matrix\"][next_target][v.base_index]               # set the return trip back to base\n",
        "            total_distance +=  distance\n",
        "            distances.append(distance)  \n",
        "            routes.append(v.base_index)                                                 # add the base to the route since this is a return trip\n",
        "            customers[v.base_index].shipment_received()                                 # base is satisfied (because it is a return trip)\n",
        "            strprint += \" -> \" + customers[v.base_index].name + \"(taken:\" + str(v.cap) +\")\"\n",
        "            inbound = True  # set this to true for proper statistics calculation\n",
        "            break           # break the while loop (route is terminated)\n",
        "        elif next_target != \"fail\": # if the vehicle is not at a supply point or route is not terminated by the load_benefits_route function\n",
        "            quant = int(np.min([v.rem_cap,   customers[next_target].acc_orders[wh_index]])) # maximum amount that can be carried is bounded by the remaining capacity and the demand\n",
        "            quants.append(quant)\n",
        "            v.rem_cap -= quant          # reduce the remaining capacity by the amount decided above\n",
        "            customers[next_target].acc_orders[wh_index] -= quant #  update the demand by the carried amount\n",
        "            strprint += \" -> \" + customers[next_target].name + \"(given:\" + str(quant) +\")\"\n",
        "\n",
        "        current_loc_ind = next_target   # update the current location since next_target will be the actual next destination\n",
        "        next_target = \"fail\" if len(routes) >= routeLimit else load_benefits_route(next_target, v, routes, spot)  # stop routing if the limit is reached otherwise call the function to find next stop\n",
        "\n",
        "        if next_target != \"fail\":       # if next_target is returned\n",
        "            distance = data[\"distance_matrix\"][current_loc_ind][next_target]   \n",
        "            total_distance +=  distance\n",
        "            distances.append(distance)\n",
        "            routes.append(next_target)\n",
        "            customers[next_target].shipment_received()      \n",
        "            if next_target in [0,1,2, 164, 163, 166, 165]: totalEmptyDistance += distance   # if you decided to go to a supply point, you went there empty\n",
        "        if next_target == \"fail\":       # if no satisfactory destination available\n",
        "            if not spot:                # return trip calculations are skipped for spot vehicles\n",
        "                quants.append(0)        # return trip is empty\n",
        "                strprint += \" -> \" + customers[v.base_index].name\n",
        "                distance = data[\"distance_matrix\"][current_loc_ind][v.base_index]#going\n",
        "                total_distance +=  distance\n",
        "                distances.append(distance)\n",
        "                routes.append(v.base_index) # end the route with the base\n",
        "                if current_loc_ind not in [0,1,2, 164, 163, 166,165]: totalEmptyDistance += distance # if you returned from a \"non-supply\" point, you returned empty\n",
        "            break\n",
        "    st = output_statistic(quants, v, inbound, distances, totalEmptyDistance, total_distance)         # statistics are compiled\n",
        "    return [routes, total_distance, strprint, st]               # return complete route, distance, the message and the statistics object\n",
        "\n",
        "def fill_rate(quant_arr, capacity, inb):    # calculates the fill rate through the route considering the drops and pick ups\n",
        "    fillOnRoad =[]\n",
        "    start_load = sum(quant_arr)\n",
        "    curLoad=start_load\n",
        "    for r in range(len(quant_arr)):\n",
        "        fillOnRoad.append(curLoad/capacity)\n",
        "        curLoad -= quant_arr[r]\n",
        "    if inb:     # internal logistics return trips are fully loaded so %100 is added\n",
        "        fillOnRoad.append(1)\n",
        "    return fillOnRoad\n",
        "\n",
        "def fill_rate_binary(quant_arr,inb):    # similar as above but only calculates if the vehicle is totally empty or not\n",
        "    fillOnRoad =[]\n",
        "    start_load = sum(quant_arr)\n",
        "    curLoad=start_load\n",
        "    for r in range(len(quant_arr)):\n",
        "        if curLoad > 0:\n",
        "            fillOnRoad.append(1)\n",
        "        else:\n",
        "            fillOnRoad.append(0)\n",
        "        curLoad -= quant_arr[r]\n",
        "    if inb:\n",
        "        fillOnRoad.append(1)\n",
        "    return fillOnRoad\n",
        "\n",
        "def prepare_fleet(trucks, lorries, wantSpot):   # creates an array of fleets with given vehicle numbers\n",
        "    i=0 # increases at the end of the loop for 0 through 7 version of the base indices\n",
        "    for j in [0,1,2, 164, 163, 166, 165]:       # conversion for indices (with i and j) - see TBD 10\n",
        "        trucknumber=1;   lorrynumber=1;   fleetAtHand=[]\n",
        "        while trucks[i] + lorries[i] > 0:       # this basically creates the vehicle arrays with changing vehicle plate numbers and correct types\n",
        "            if trucks[i] >0:\n",
        "                p = \"S\" if wantSpot else \"D\"\n",
        "                name = \"34 \"+p+ \"T 0\" + str(trucknumber)\n",
        "                fleetAtHand.append(vehicle(\"T\", name, spot=wantSpot, base=customers[j]))\n",
        "                trucknumber+=1\n",
        "                trucks[i] -=1\n",
        "            if lorries[i] >0:\n",
        "                p = \"S\" if wantSpot else \"D\"\n",
        "                name = \"34 \"+p+ \"K 0\" + str(lorrynumber)\n",
        "                fleetAtHand.append(vehicle(\"K\", name, spot=wantSpot, base=customers[j]))\n",
        "                lorrynumber+=1\n",
        "                lorries[i] -=1\n",
        "        if not wantSpot:    # correctly names the fleets \n",
        "            if i == 0: fleet_geb = make_fleet(fleetAtHand)\n",
        "            if i == 1: fleet_nev = make_fleet(fleetAtHand)\n",
        "            if i == 2: fleet_ala = make_fleet(fleetAtHand)\n",
        "            if i == 3: fleet_bil = make_fleet(fleetAtHand)\n",
        "            if i == 4: fleet_sar = make_fleet(fleetAtHand)\n",
        "            if i == 5: fleet_ela = make_fleet(fleetAtHand)\n",
        "            if i == 6: fleet_mer = make_fleet(fleetAtHand)\n",
        "        else:\n",
        "            if i == 0: spot_fleet_geb = make_fleet(fleetAtHand)\n",
        "            if i == 1: spot_fleet_nev = make_fleet(fleetAtHand)\n",
        "            if i == 2: spot_fleet_ala = make_fleet(fleetAtHand)\n",
        "            if i == 3: spot_fleet_bil = make_fleet(fleetAtHand)\n",
        "            if i == 4: spot_fleet_sar = make_fleet(fleetAtHand)\n",
        "            if i == 5: spot_fleet_ela = make_fleet(fleetAtHand)\n",
        "            if i == 6: spot_fleet_mer = make_fleet(fleetAtHand)\n",
        "        i+=1\n",
        "    if wantSpot:    # names the array of fleets\n",
        "        prepared_fleets = [spot_fleet_geb, spot_fleet_nev, spot_fleet_ala,\n",
        "                           spot_fleet_bil, spot_fleet_sar, spot_fleet_ela, spot_fleet_mer]\n",
        "    else:\n",
        "        prepared_fleets = [fleet_geb, fleet_nev, fleet_ala,fleet_bil,fleet_sar,fleet_ela,fleet_mer]\n",
        "    return prepared_fleets\n",
        "\n",
        "def spot_cost_calculator(route, dist, vv, c_routes, c_costs):\n",
        "    j=0\n",
        "    for r in c_routes:\n",
        "        if route[0:2] == r and len(route) < 4:  # searches the first two pieces of the route among contracted routes if it is not extended beyond 3 points (includig return)\n",
        "            print(\"Contracted route detected\")  \n",
        "            return [c_costs[j],0]               # returns the cost of the contract if route is matched with it\n",
        "        j+=1\n",
        "    #theCost = (dist + data[\"distance_matrix\"][route[-1]][vv.base_index])* vv.cost\n",
        "    theCost = dist * vv.cost    # if it is not among the contracted routes, just return regular cost\n",
        "    return [theCost, data[\"distance_matrix\"][route[-1]][vv.base_index]*vv.cost ]\n",
        "\n",
        "def spot_converter(routeToCheck, c_routes, prev_vehicle):   # makes a delivery spot if desired\n",
        "    if prev_vehicle.spot:              #skip this function if the vehicle is already spot                     \n",
        "        return [prev_vehicle, True]\n",
        "    routeToCheck = routeToCheck[0:-1]                       # excludes the return trip for a possible spot route\n",
        "    base_ind=prev_vehicle.base_index                        # the base will not change \n",
        "    if prev_vehicle.base_index == 164: base_ind = 3\n",
        "    if prev_vehicle.base_index == 163: base_ind = 4\n",
        "    if prev_vehicle.base_index == 166: base_ind = 5\n",
        "    if prev_vehicle.base_index == 165: base_ind = 6         # conversion for indices - see TBD 10\n",
        "    spot_available = spot_fleets[base_ind].havetruck if prev_vehicle.tip==\"T\" else spot_fleets[base_ind].havelorry  #checks the availability of a desired spot vehicle type based on current vehicle's type\n",
        "    if routeToCheck in c_routes and spot_available:         # conversion only happens if the route is a contracted route and a spot vehicle is available\n",
        "        converted=True\n",
        "        print(\"Converted to spot delivery!\")\n",
        "        j=0         # index of the chosen spot vehicle within its fleet (we can not  make changes to the vehicle directly since it is a global variable but we are in a function)\n",
        "        for vehc in fleets[base_ind].v:             # unassigns the previously assigned dedicated vehicle\n",
        "            if vehc.plate == prev_vehicle.plate:\n",
        "                fleets[base_ind].v[j].returned = True\n",
        "                fleets[base_ind].v_return(prev_vehicle); fleets[base_ind].avail_check()     #regular updates to the fleet after a change\n",
        "                break                               # if the previously assigned vehicle is found, no need to search further\n",
        "            j+=1\n",
        "        for vehc in spot_fleets[base_ind].v:        # searches and assigns a spot vehicle\n",
        "            if vehc.returned and vehc.tip == prev_vehicle.tip:\n",
        "                vehc.returned = False\n",
        "#                vehc.return_time = prev_vehicle.return_time*2 #  \"\"\"this is handled outside the function\"\"\"\n",
        "                spot_fleets[base_ind].v_left(vehc); spot_fleets[base_ind].avail_check() #regular updates to the fleet after a change\n",
        "                break\n",
        "        return [vehc, converted]\n",
        "    else:\n",
        "        converted=False\n",
        "        return [prev_vehicle, converted]\n",
        "\n",
        "#rota sayılarının export edileceği excel path;\n",
        "pat_part=r'C:\\Users\\ASUS_PC\\Desktop\\Mey\\rota_sayıları_partial.xlsx'\n",
        "pat_tot=r'C:\\Users\\ASUS_PC\\Desktop\\Mey\\rota_sayıları_total.xlsx'\n",
        "\n",
        "def unique(list1):\n",
        "    \n",
        "    unique_list = []\n",
        "    \n",
        "    for x in list1:\n",
        "        if x not in unique_list:\n",
        "            unique_list.append(x)\n",
        "    return unique_list\n",
        "\n",
        "def route_appender(lst,route):\n",
        "    lst.append(route)\n",
        "    return lst\n",
        "\n",
        "def route_counter(lst,custs):\n",
        "  elements=[]; cntr=[]; total2=[]; son_list=[];\n",
        "  for i in lst:  \n",
        "    total= []; partial_el=[];\n",
        "    a=\"\"\n",
        "    for j in range(len(i)):\n",
        "      if j==0:\n",
        "        strt=custs[i[j]].name\n",
        "      else:\n",
        "        partial_el.append(custs[i[j]].name)\n",
        "   \n",
        "      if not j==(len(i)-1):\n",
        "        a+=str(custs[i[j]].name) + \"-\" \n",
        "      else:\n",
        "        a+=str(custs[i[j]].name)\n",
        "    elements.append(a)\n",
        "    for k in partial_el:\n",
        "      general_partial_rts=[];\n",
        "      general_partial_rts.append(strt)\n",
        "      general_partial_rts.append(k)\n",
        "      total.append(general_partial_rts)\n",
        "    total2.append(total)\n",
        "  \n",
        "  num_rt=[]; nam_rt=[];nam_partial=[];num_partial=[];\n",
        "  p_un=unique(elements);\n",
        "  for i in range(len(p_un)):\n",
        "    b=\"\"\n",
        "    p=elements.count(p_un[i])\n",
        "    b+=str(elements[i])+ \" \" +\"->\" +\"count:\"+str(p)\n",
        "    cntr.append(b); nam_rt.append(p_un[i]); num_rt.append(p)\n",
        "  \n",
        "  for iterat in (total2):\n",
        "    for iterat2 in range(len(iterat)):\n",
        "      son_list.append(iterat[iterat2])\n",
        "\n",
        "  s_un=unique(son_list)\n",
        "  for ist in range(len(s_un)):\n",
        "      cc=son_list.count(s_un[ist])\n",
        "      nam_partial.append(s_un[ist]); num_partial.append(cc)\n",
        "  return cntr,nam_rt,num_rt,nam_partial,num_partial,son_list\n",
        "\n",
        "def counter_to_dataFrame(name,num):\n",
        "    d={\"rota\":name,\"sayı\":num}\n",
        "    df=pd.DataFrame(d)\n",
        "    return df\n",
        "    \n",
        "  "
      ],
      "execution_count": 3,
      "outputs": []
    },
    {
      "cell_type": "markdown",
      "metadata": {
        "id": "VhrO0H5QLdnI"
      },
      "source": [
        "********\n",
        "INITIALIZATIONS\n",
        "******"
      ]
    },
    {
      "cell_type": "code",
      "metadata": {
        "id": "hEEQh_lSLdTH",
        "cellView": "code"
      },
      "source": [
        "woTr=pd.read_excel(r\"/content/drive/MyDrive/MEYYO/without_truck.xlsx\")\n",
        "dist_df = pd.read_excel(r\"/content/drive/MyDrive/MEYYO/distances (2).xlsx\")\n",
        "loc_type_df = pd.read_excel(r\"/content/drive/MyDrive/MEYYO/musteri_tip.xlsx\")\n",
        "data = {}\n",
        "data = load_distances(data, dist_df)\n",
        "customers = []\n",
        "for i in range(dist_df.shape[0]):           # construction of customes array of location objects\n",
        "    name = str(dist_df.iloc[i][\"FROM/TO\"])  # names are from distance dataframe\n",
        "    if loc_type_df.loc[loc_type_df.place == name].empty:        # types are taken\n",
        "        t = \"na\"\n",
        "        if i in [168,169,170]:            t = \"wh\"              # receiver clones of warehouses\n",
        "    else:        t=loc_type_df.loc[loc_type_df.place == name].iloc[0].tip   # rest of locations' types\n",
        "    customers.append(location(str(dist_df.iloc[i][\"FROM/TO\"]), t, i))   # add it to the list\n",
        "    \n",
        "    # ALL THE FACTORY FLEETS ARE NOW CONSTRUCTED VIA PREPARE_FLEET\n",
        "\n",
        "vehicles_bil = [   #SET UP VEHICLES (tip, plaka, spot mu?, merkez depo)\n",
        "#            vehicle(\"T\", \"34 STB 1\", spot=True, base = customers[164]),           vehicle(\"T\", \"34 STB 2\", spot=True, base = customers[164]),\n",
        "#            vehicle(\"T\", \"34 STB 3\", spot=True, base = customers[164]),           vehicle(\"T\", \"34 STB 4\", spot=True, base = customers[164]),\n",
        "#            vehicle(\"K\", \"34 SKB 5\", spot=True, base = customers[164]),           vehicle(\"K\", \"34 SKB 6\", spot=True, base = customers[164]),\n",
        "]\n",
        "fleet_bil = make_fleet(vehicles_bil) #make the fleet with vehicle array\n",
        "vehicles_mer = [   #SET UP VEHICLES (tip, plaka, spot mu?, merkez depo)\n",
        "#            vehicle(\"T\", \"34 STM 1\", spot=True, base = customers[165]),           vehicle(\"T\", \"34 STM 2\", spot=True, base = customers[165]),\n",
        "#            vehicle(\"T\", \"34 STM 3\", spot=True, base = customers[165]),           vehicle(\"K\", \"34 SKM 4\", spot=True, base = customers[165]),\n",
        "]\n",
        "fleet_mer = make_fleet(vehicles_mer) \n",
        "vehicles_sar = [   #SET UP VEHICLES (tip, plaka, spot mu?, merkez depo)\n",
        "#            vehicle(\"T\", \"34 STS 1\", spot=True, base = customers[163]),           vehicle(\"T\", \"34 STS 2\", spot=True, base = customers[163]),\n",
        "#            vehicle(\"T\", \"34 STS 3\", spot=True, base = customers[163]),           vehicle(\"K\", \"34 SKS 4\", spot=True, base = customers[163]),\n",
        "]\n",
        "fleet_sar = make_fleet(vehicles_sar) #make the fleet with vehicle array\n",
        "vehicles_ela = [   #SET UP VEHICLES (tip, plaka, spot mu?, merkez depo)\n",
        "#            vehicle(\"T\", \"34 STE 1\", spot=True, base = customers[166]),           vehicle(\"T\", \"34 STE 2\", spot=True, base = customers[166]),\n",
        "#            vehicle(\"T\", \"34 STE 3\", spot=True, base = customers[166]),           vehicle(\"K\", \"34 SKE 4\", spot=True, base = customers[166]),\n",
        "]\n",
        "fleet_ela = make_fleet(vehicles_ela) # make the fleet with vehicle array\n",
        "vehicles_geb = [   # SET UP VEHICLES (tip, plaka, spot?, base)\n",
        "            vehicle(\"T\", \"34 DTG 1\", spot=False, base = customers[0]),\n",
        "            vehicle(\"T\", \"34 DTG 2\", spot=False, base = customers[0]),\n",
        "            vehicle(\"T\", \"34 DTG 3\", spot=False, base = customers[0]),\n",
        "            vehicle(\"T\", \"34 DTG 4\", spot=False, base = customers[0]),\n",
        "            vehicle(\"T\", \"34 DTG 5\", spot=False, base = customers[0]),\n",
        "            vehicle(\"T\", \"34 DTG 6\", spot=False, base = customers[0]),\n",
        "            vehicle(\"T\", \"34 DTG 7\", spot=False, base = customers[0]),\n",
        "            vehicle(\"T\", \"34 DTG 8\", spot=False, base = customers[0]),\n",
        "            vehicle(\"T\", \"34 DTG 9\", spot=False, base = customers[0]),\n",
        "            vehicle(\"T\", \"34 DTG 10\", spot=False, base = customers[0]),\n",
        "            vehicle(\"T\", \"34 DTG 11\", spot=False, base = customers[0]),\n",
        "            vehicle(\"T\", \"34 DTG 12\", spot=False, base = customers[0]),\n",
        "            ###\n",
        "            vehicle(\"K\", \"34 DKG 13\", spot=False, base = customers[0]),\n",
        "            vehicle(\"K\", \"34 DKG 14\", spot=False, base = customers[0])\n",
        "            ]\n",
        "fleet_geb = make_fleet(vehicles_geb) # make the fleet with vehicle array\n",
        "\n",
        "vehicles_nev = [   #SET UP VEHICLES (tip, plaka, spot?, base)\n",
        "            vehicle(\"T\", \"34 DTN 1\", spot=False, base = customers[1]),\n",
        "            vehicle(\"T\", \"34 DTN 2\", spot=False, base = customers[1]),\n",
        "            vehicle(\"T\", \"34 DTN 3\", spot=False, base = customers[1]),\n",
        "            vehicle(\"T\", \"34 DTN 4\", spot=False, base = customers[1]),\n",
        "            vehicle(\"T\", \"34 DTN 5\", spot=False, base = customers[1]),\n",
        "            vehicle(\"T\", \"34 DTN 6\", spot=False, base = customers[1]),\n",
        "            vehicle(\"T\", \"34 DTN 7\", spot=False, base = customers[1]),\n",
        "            vehicle(\"T\", \"34 DTN 8\", spot=False, base = customers[1]),\n",
        "            vehicle(\"T\", \"34 DTN 9\", spot=False, base = customers[1]),\n",
        "            ###\n",
        "            vehicle(\"K\", \"34 DKN 10\", spot=False, base = customers[1]),\n",
        "            vehicle(\"K\", \"34 DKN 11\", spot=False, base = customers[1]),\n",
        "            vehicle(\"K\", \"34 DKN 12\", spot=False, base = customers[1]),\n",
        "            vehicle(\"K\", \"34 DKN 13\", spot=False, base = customers[1]),\n",
        "            vehicle(\"K\", \"34 DKN 14\", spot=False, base = customers[1]),\n",
        "            vehicle(\"K\", \"34 DKN 15\", spot=False, base = customers[1])\n",
        "            ]\n",
        "fleet_nev = make_fleet(vehicles_nev)\n",
        "\n",
        "vehicles_ala = [   # SET UP VEHICLES (tip, plaka, spot mu?, base)\n",
        "            vehicle(\"T\", \"34 DTA 1\", spot=False, base = customers[2]),\n",
        "            vehicle(\"T\", \"34 DTA 2\", spot=False, base = customers[2]),\n",
        "            vehicle(\"T\", \"34 DTA 3\", spot=False, base = customers[2]),\n",
        "            vehicle(\"T\", \"34 DTA 4\", spot=False, base = customers[2]),\n",
        "            vehicle(\"T\", \"34 DTA 5\", spot=False, base = customers[2]),\n",
        "            vehicle(\"T\", \"34 DTA 6\", spot=False, base = customers[2]),\n",
        "            vehicle(\"T\", \"34 DTA 7\", spot=False, base = customers[2]),\n",
        "            vehicle(\"T\", \"34 DTA 8\", spot=False, base = customers[2]),\n",
        "            vehicle(\"T\", \"34 DTA 9\", spot=False, base = customers[2]),\n",
        "            vehicle(\"T\", \"34 DTA 10\", spot=False, base = customers[2]),\n",
        "            vehicle(\"T\", \"34 DTA 11\", spot=False, base = customers[2]),\n",
        "            vehicle(\"T\", \"34 DTA 12\", spot=False, base = customers[2]),\n",
        "            vehicle(\"T\", \"34 DTA 13\", spot=False, base = customers[2]),\n",
        "            vehicle(\"T\", \"34 DTA 14\", spot=False, base = customers[2]),\n",
        "            #vehicle(\"T\", \"34 DTA 15\", spot=False, base = customers[2]), # this vehicle was not used after day 1 so it is removed altogether\n",
        "            ###\n",
        "            vehicle(\"K\", \"34 DKA 15\", spot=False, base = customers[2]),\n",
        "            vehicle(\"K\", \"34 DKA 16\", spot=False, base = customers[2]),\n",
        "            vehicle(\"K\", \"34 DKA 17\", spot=False, base = customers[2]),\n",
        "            vehicle(\"K\", \"34 DKA 18\", spot=False, base = customers[2]),\n",
        "            vehicle(\"K\", \"34 DKA 19\", spot=False, base = customers[2]),\n",
        "            vehicle(\"K\", \"34 DKA 20\", spot=False, base = customers[2]),\n",
        "            vehicle(\"K\", \"34 DKA 21\", spot=False, base = customers[2])\n",
        "            ]\n",
        "fleet_ala = make_fleet(vehicles_ala)\n",
        "\n",
        "current_plan = \"hybrid\"          # declare the policy for vehicles\n",
        "\n",
        "if current_plan == \"hybrid\":        # hybrid scenario takes real dedicated numbers and enough spot vehicles to never run out of vehicles\n",
        "    fleets      = [fleet_geb, fleet_nev, fleet_ala, fleet_bil, fleet_sar, fleet_ela, fleet_mer]\n",
        "    spot_fleets = prepare_fleet(trucks=[10,10,10,5,3,3,3], lorries = [0,0,0,0,0,0,0], wantSpot=True)\n",
        "elif current_plan == \"spot_only\":   # spot only scenario takes empty dedicated fleets and enough spot vehicles to never run out of vehicles\n",
        "    fleets      = prepare_fleet(trucks=[0,0,0,0,0,0,0], lorries = [0,0,0,0,0,0,0], wantSpot=False)\n",
        "    spot_fleets = prepare_fleet(trucks=[25,22,31,8,3,3,6], lorries = [0,0,0,0,0,0,0], wantSpot=True)\n",
        "elif current_plan == \"ded_only\":    # dedicated only scenario takes enough dedicated vehicles to never run out of vehicles\n",
        "    fleets =     prepare_fleet(trucks=[20,19,20,0,0,0,0], lorries = [4,8,7,0,0,0,0], wantSpot=False)\n",
        "    spot_fleets =prepare_fleet(trucks=[0,0,0,0,0,0,0],    lorries = [0,0,0,0,0,0,0], wantSpot=True)\n",
        "#fleets = prepare_fleet(trucks=[24,22,24,8,6,6,6], lorries = [12,16,12,5,4,4,4], wantSpot=False)\n",
        "demand_period = 1                   # for homogenous demand renewal - not relevant for other renewal types\n",
        "demands_oct = pd.read_excel(r\"/content/drive/MyDrive/MEYYO/totaldemand_new.xlsm\")\n",
        "demands_oct[\"periodic_demand\"] = demands_oct.total_demand / (30/demand_period)  # generate demand amounts to update each day\n",
        "demands_oct[\"norm_periodic\"] = demands_oct.norm_demand / demands_oct.norm_count"
      ],
      "execution_count": 4,
      "outputs": []
    },
    {
      "cell_type": "markdown",
      "metadata": {
        "id": "v__UYDr-L_DZ"
      },
      "source": [
        "*****\n",
        "SIMULATION\n",
        "*****"
      ]
    },
    {
      "cell_type": "code",
      "metadata": {
        "id": "sh44u4TRL7S2",
        "colab": {
          "base_uri": "https://localhost:8080/",
          "height": 1000
        },
        "outputId": "014c0afe-4e0d-4172-f6af-0ab78f30ccf9"
      },
      "source": [
        "plan_for = current_plan     # plan is initalized in the previous cell due to fleet generation differences between scenarios\n",
        "demand_plan = \"frequency\"   # selected demand renewal type\n",
        "maxdays = 30                # max length of the simulation in days\n",
        "time_increment =  .25       # how much time will pass each iteration in days - quarter of a day passes between morning and noon (evening and midnight is skipped in the simulation)\n",
        "bound_with_truck = 15       # vehicle selection thresholds - same for spot and dedicated since there is no route limit difference between them anymore - see TBD 9\n",
        "bound_with_lorry = 10\n",
        "exit_points = 3 if plan_for== \"ded_only\" else 7         # dedicated only only takes only warehouses as possible starting points\n",
        "total_cost = [0 for q in range(exit_points)]            # empty initializations for statistics\n",
        "totalReturnCost = [0 for q in range(exit_points)]       # this is different because it is kept individually for exit points, the rest are for all routes AND warehouses\n",
        "all_distances = [[] for q in range(exit_points)]\n",
        "all_empty_distances = [[] for q in range(exit_points)]\n",
        "all_mean_fill = [[] for q in range(exit_points)]\n",
        "all_mean_fill_bin = [[] for q in range(exit_points)]\n",
        "vehicle_avail = [[] for q in range(exit_points)]\n",
        "#unsat_dem    = [[] for q in range(exit_points)]           # unsatisfied demand remaining - not used currently\n",
        "contracted_routes = [[2,0+168], [1,0+168],[166,1+168], [1,2+168]]   # list of contracted routes - for delivery back to warehouses their receiver clones are used ( i+168 takes i to its clone)\n",
        "contracted_costs = [2734, 3092, 2925, 3786]                         # costs for contracted routes - has to be in the same order as the routes above\n",
        "wh_ind = [0,1,2, 164, 163, 166, 165]                                # conversion for indices - see TBD 10\n",
        "tot_route=[];\n",
        "for time in np.linspace(0,maxdays,int(1 + maxdays / time_increment)):     # iterates through time points according to parameters above\n",
        "    if time%1 ==0:                  # start of the day is morning\n",
        "        print(\"\\n### DAY \", int(time+1), \" MORNING ###\")\n",
        "    if time%1 ==.25:                # one quarter day later is the noon\n",
        "        print(\"\\n### DAY \", int(time+1), \" NOON ###\")\n",
        "    if time%1 < .5:                 # simulation does stuff only if it is morning or noon\n",
        "        if time%1 <.25:             # demands only get renewed if it is morning - could be different but a minor detail\n",
        "            for cust in customers:  # unsatisfied customer check for days since shipment\n",
        "                if cust.tip == \"zm\":# zm type customers are effected more severly by unsatisfied orders\n",
        "                    if np.max(cust.acc_orders) > 0: cust.dayPassed()\n",
        "                else: \n",
        "                    if np.max(cust.acc_orders) > 3: cust.dayPassed()\n",
        "        for i in range(exit_points):                                                            # updates vehicle returns for all exit point\n",
        "            for fleetArray in [fleets, spot_fleets]:                                            # for dedicated and spot fleets\n",
        "                for v in fleetArray[i].v:                                                       # for every vehicle...\n",
        "                    if not v.returned and (v.return_time < time):                               # if its returned status is false and return time has come already...\n",
        "                        v.returned = True; fleetArray[i].v_return(v); v.rem_cap = v.cap         # update it as returned and update fleet with the vehicle (see v_return func. above)\n",
        "                        if plan_for != \"spot_only\":\n",
        "                            print(\"#RETURN: \",v.plate, \" returned to \", v.base.name)            # print the return\n",
        "            fleets[i].avail_check();spot_fleets[i].avail_check()                                # regular updates to the fleet after a change\n",
        "\n",
        "            if demand_plan == \"daily_homogenous\":                   # not used, so only the other demand version is explained\n",
        "                if (time-1)%int(demand_period) == 0 and time != maxdays:\n",
        "                    for locat in customers:\n",
        "                        if not locat.index in [168,169,170]:\n",
        "                            sub_dem = demands_oct.loc[(demands_oct.from_place == customers[wh_ind[i]].name)  &  (demands_oct.to_place == locat.name)]\n",
        "                            if not sub_dem.empty:\n",
        "                                if not locat.index in [0,1,2]:\n",
        "                                    locat.acc_orders[i] += int(sub_dem[\"periodic_demand\"].iloc[0]) + 1\n",
        "                                    locat.passive = False\n",
        "                                else: \n",
        "                                    customers[locat.index + 168].acc_orders[i] += int(sub_dem[\"periodic_demand\"].iloc[0]) + 1\n",
        "                                    customers[locat.index + 168].passive = False\n",
        "\n",
        "            elif demand_plan == \"frequency\" :                       # updates demand according to its frequency and normalized quantity\n",
        "                for locat in customers:                             # for each location (customers array holds every location including non customers)\n",
        "                    if not locat.index in [168,169,170]:            # receiver clones catch the demand of warehouses\n",
        "                        sub_dem = demands_oct.loc[(demands_oct.from_place == customers[wh_ind[i]].name)  &  (demands_oct.to_place == locat.name)] #slice of the dataframe for the location and the exit point\n",
        "                        if not sub_dem.empty:                                                       # if there is a demand record for this pair\n",
        "                            if time % int(30/sub_dem[\"norm_count\"]) == 0 and time != maxdays:       # if it is time (frequency is considered here)\n",
        "                                if not locat.index in [0,1,2]:                                      # warehouses' demand are caught by receiver clones\n",
        "                                    locat.acc_orders[i] += int(sub_dem[\"norm_periodic\"].iloc[0])+1  # amount found is added\n",
        "                                    locat.passive = False                                           # if demand renewal happened this location is not passive (not excluded from statistics)    \n",
        "                                else:\n",
        "                                    customers[locat.index + 168].acc_orders[i] += int(sub_dem[\"norm_periodic\"].iloc[0])+1  # warehouses' demand are caught by receiver clones \n",
        "                                    customers[locat.index + 168].passive = False\n",
        "            \n",
        "\n",
        "        if (int(time)+1)%7 != 0 and int(time)%7 !=0:                # shipments happen if it is not a weekend\n",
        "            if plan_for == \"spot_only\":\n",
        "                possible_depots =[d for d in range(7)]              # start each day with all exit points eligible for a route start\n",
        "                thresholds = [80,45,50, 50,50,50,50]                # thresholds for each exit point for a destination approval see TBD 2\n",
        "                while len(possible_depots) > 0:                     # do routing as long as there is at least one eligible exit point\n",
        "                    [cur_max, chosen_wh_ind, chosen_dest_ind] = load_benefits_start_spot(possible_depots)   # inital selection of the exit point and first destination\n",
        "                    if cur_max > thresholds[chosen_wh_ind]:         \n",
        "                        chosen_vehicle = find_vehicle(chosen_wh_ind, chosen_dest_ind, lookForSpot=True)     # see the function for details\n",
        "                        if chosen_vehicle != 0:                                                             # if a vehicle is returned succesfully\n",
        "                            strprint = chosen_vehicle.plate +\" \"+ customers[wh_ind[chosen_wh_ind]].name\n",
        "                            [newroute, distanceOfRoute, strprint, stats] = find_route(strprint, chosen_vehicle, chosen_dest_ind, spot=True) # find the finalized route\n",
        "                            #CONVERT TO SPOT?? CONTINUE WITH ADJUSTED SPOT ROUTE\n",
        "                            all_empty_distances[chosen_wh_ind].append(stats.emptyDistRate)      # statistics gathering\n",
        "                            all_distances[chosen_wh_ind].append(distanceOfRoute)\n",
        "                            all_mean_fill[chosen_wh_ind].append(stats.mean_fill)\n",
        "                            all_mean_fill_bin[chosen_wh_ind].append(stats.mean_fill_bin)\n",
        "                            #distanceOfRoute += data[\"distance_matrix\"][finalpoint][chosen_wh_ind]\n",
        "                            [cost,extraReturnCost] = spot_cost_calculator(newroute, distanceOfRoute, chosen_vehicle, contracted_routes, contracted_costs)   #find the cost\n",
        "                            total_cost[chosen_wh_ind] += cost\n",
        "                            totalReturnCost[chosen_wh_ind] += extraReturnCost\n",
        "                            total_cost[chosen_wh_ind] += cost\n",
        "                            strprint += \" -- \" + str(distanceOfRoute) + \"km\" + \"(₺\" + str(int(cost)) + \")\"\n",
        "                            duration = distanceOfRoute/(chosen_vehicle.speed) + (len(newroute)-2)*1 # LOAD UNLOAD DURATION\n",
        "                            if duration > 9: duration = 24*int(duration/9) + duration%9             # maximum travel duration in a day is 9 hours\n",
        "                            seasonality_factor = .2             # seasonality factor affects spot vehicle return time, this could reflect the times where spot vehicles are rarely available (watermelon season in Adana)\n",
        "                            duration *= seasonality_factor      # delivery duration is multiplied by this factor\n",
        "                            chosen_vehicle.return_time = time + duration/24 # conversion to days\n",
        "                            print(strprint)\n",
        "                            fleets[chosen_wh_ind].avail_check() # regular updates to the fleet after a change\n",
        "                        else: \n",
        "                            possible_depots.remove(chosen_wh_ind)   # remove the base from eligibles if no vehicle is found\n",
        "                            print(\"No vehicle found in \", customers[wh_ind[chosen_wh_ind]].name)\n",
        "                            # update the vehicle availability statistic since there will be no change for the rest of the day\n",
        "                            vehicle_avail[chosen_wh_ind].append(spot_fleets[chosen_wh_ind].available_lorry + spot_fleets[chosen_wh_ind].available_truck)\n",
        "                    else:\n",
        "                        possible_depots.remove(chosen_wh_ind)       # remove the base from eligibles if proposed destination does not satisfy the threshold\n",
        "                        print(\"Shipments from \", customers[wh_ind[chosen_wh_ind]].name, \" no longer desirable today.\")\n",
        "                        # update the vehicle availability statistic since there will be no change for the rest of the day:\n",
        "                        vehicle_avail[chosen_wh_ind].append(spot_fleets[chosen_wh_ind].available_lorry + spot_fleets[chosen_wh_ind].available_truck)\n",
        "            elif plan_for == \"hybrid\":                  \n",
        "                possible_depots =[d for d in range(7)]  # start each day with all exit points eligible for a route start\n",
        "                thresholds = [105,60,60, 50,50,50,50]   # thresholds for each exit point for a destination approval see TBD 2\n",
        "                locs=[];\n",
        "                for locat in customers:\n",
        "                    locat.w_o_truck(woTr)\n",
        "                    locs.append(locat)\n",
        "                while len(possible_depots) > 0:         # do routing as long as there is at least one eligible exit point\n",
        "                    [cur_max, chosen_wh_ind, chosen_dest_ind] = load_benefits_start(possible_depots, plan_for)              # inital selection of the exit point and first destination\n",
        "                    if cur_max > thresholds[chosen_wh_ind]:\n",
        "                        have_any_ded_vhc = fleets[chosen_wh_ind].havetruck or fleets[chosen_wh_ind].havelorry               # checks to see the availability of a dedicated vehicle\n",
        "                        chosen_vehicle = find_vehicle(chosen_wh_ind, chosen_dest_ind, lookForSpot=(not have_any_ded_vhc))   # see the function for details\n",
        "                        if locs[chosen_dest_ind].tr_o >0 and (not have_any_ded_vhc) :  #ERROR VEREN KISIM!!!!\n",
        "                            chosen_vehicle = find_vehicle(chosen_wh_ind, chosen_dest_ind, lookForSpot=(False))\n",
        "                        if chosen_vehicle != 0:                 # if a vehicle is returned succesfully\n",
        "                            platenumber = chosen_vehicle.plate  # this is kept seperately since reassignment is a possibility\n",
        "                            strprint = \" \" + customers[wh_ind[chosen_wh_ind]].name\n",
        "                            [newroute, distanceOfRoute, strprint, stats] = find_route(strprint, chosen_vehicle, chosen_dest_ind, spot=chosen_vehicle.spot)# find the finalized route\n",
        "                            route_appender(tot_route,newroute)\n",
        "                            temp_check=[];\n",
        "                            for p in newroute:\n",
        "                              temp_check.append(locs[p].tr_o)\n",
        "                            if sum(temp_check) == 0:\n",
        "                              [new_vehicle,spot_converted] = spot_converter(newroute, contracted_routes, chosen_vehicle)  # possible conversion to a contracted spot delivery\n",
        "                            else:\n",
        "                              new_vehicle=chosen_vehicle\n",
        "                              spot_converted=0\n",
        "                            if spot_converted: platenumber = new_vehicle.plate              # update the plate number if there is reassignment\n",
        "                            all_empty_distances[chosen_wh_ind].append(stats.emptyDistRate)  # statistics gathering\n",
        "                            all_distances[chosen_wh_ind].append(distanceOfRoute)            \n",
        "                            all_mean_fill[chosen_wh_ind].append(stats.mean_fill)\n",
        "                            all_mean_fill_bin[chosen_wh_ind].append(stats.mean_fill_bin)\n",
        "                            #distanceOfRoute += data[\"distance_matrix\"][finalpoint][chosen_wh_ind]\n",
        "                            extraReturnCost=0\n",
        "                            if new_vehicle.spot:                                             #cost calculation is different for spot and dedicated vehicles\n",
        "                                [cost,extraReturnCost] = spot_cost_calculator(newroute, distanceOfRoute, new_vehicle, contracted_routes, contracted_costs)\n",
        "                                #if extraReturnCost != 0: print(\"route not found\")\n",
        "                            else:\n",
        "                                cost = distanceOfRoute * new_vehicle.cost\n",
        "                            total_cost[chosen_wh_ind] += cost\n",
        "                            totalReturnCost[chosen_wh_ind] += extraReturnCost\n",
        "                            strprint += \" -- \" + str(distanceOfRoute) + \"km\" + \"(₺\" + str(int(cost)) + \")\"\n",
        "                            duration = distanceOfRoute/(new_vehicle.speed) + (len(newroute)-1)*1    # LOAD UNLOAD DURATION\n",
        "                            if duration > 9: duration = 24*int(duration/9) + duration%9             # maximum travel duration in a day is 9 hours\n",
        "                            seasonality_factor = .2     # seasonality factor affects spot vehicle return time, this could reflect the times where spot vehicles are rarely available (watermelon season in Adana)\n",
        "                            duration = duration if not new_vehicle.spot else duration*seasonality_factor    # delivery duration is multiplied by this factor for spot vehicles\n",
        "                             \n",
        "                            new_vehicle.return_time = time + duration/24                            # conversion to days\n",
        "                            strprint = platenumber + strprint\n",
        "                            print(strprint)\n",
        "                            fleets[chosen_wh_ind].avail_check()                                     # regular updates to the fleet after a change\n",
        "                        else: \n",
        "                            possible_depots.remove(chosen_wh_ind)                                   # remove the base from eligibles if no vehicle is found\n",
        "                            print(\"No vehicle found in \", customers[wh_ind[chosen_wh_ind]].name)\n",
        "                            # update the vehicle availability  since there will be no change for the rest of the day (count spot and dedicated type vehicles-- can be treacked manually if needed) \n",
        "                            vehicle_avail[chosen_wh_ind].append(fleets[chosen_wh_ind].available_lorry + fleets[chosen_wh_ind].available_truck\n",
        "                                                            +spot_fleets[chosen_wh_ind].available_lorry + spot_fleets[chosen_wh_ind].available_truck)\n",
        "                    else:\n",
        "                        try: possible_depots.remove(chosen_wh_ind)  # break the loop if somehow a non existant point is tried to be removed - no idea why this happens \n",
        "                        except: break\n",
        "                        print(\"Shipments from \", customers[wh_ind[chosen_wh_ind]].name, \" no longer desirable today.\")\n",
        "                        # update the vehicle availability  since there will be no change for the rest of the day (count spot and dedicated type vehicles-- can be treacked manually if needed) \n",
        "                        vehicle_avail[chosen_wh_ind].append(fleets[chosen_wh_ind].available_lorry + fleets[chosen_wh_ind].available_truck\n",
        "                                                        +spot_fleets[chosen_wh_ind].available_lorry + spot_fleets[chosen_wh_ind].available_truck)\n",
        "            elif plan_for == \"ded_only\":\n",
        "                possible_depots = [0,1,2]       # start each day with all exit points eligible for a route start - see TBD 10\n",
        "                thresholds = [105,60,60]        # thresholds for each exit point for a destination approval see TBD 2\n",
        "                while len(possible_depots) > 0: # do routing as long as there is at least one eligible exit point\n",
        "                    [cur_max, chosen_wh_ind, chosen_dest_ind] = load_benefits_start(possible_depots, plan_for) # inital selection of the exit point and first destination\n",
        "                    if cur_max > thresholds[chosen_wh_ind]:\n",
        "                        chosen_vehicle = find_vehicle(chosen_wh_ind, chosen_dest_ind, lookForSpot=False)\n",
        "                        if chosen_vehicle != 0: # if a vehicle is returned succesfully\n",
        "                            #strprint = chosen_vehicle.plate +\" \"+ customers[chosen_wh_ind].name + \" -> \" + customers[chosen_dest_ind].name+ \"(given:\" + str(chosen_vehicle.cap-chosen_vehicle.rem_cap ) + \")\"\n",
        "                            strprint = chosen_vehicle.plate +\" \"+ customers[chosen_wh_ind].name\n",
        "                            [newroute, distanceOfRoute, strprint, stats] = find_route(strprint, chosen_vehicle, chosen_dest_ind, spot=False)    # find the finalized route\n",
        "                            all_empty_distances[chosen_wh_ind].append(stats.emptyDistRate)          # statistics gathering\n",
        "                            totalReturnCost[chosen_wh_ind] += stats.emptyDistRate*distanceOfRoute*chosen_vehicle.cost\n",
        "                            all_distances[chosen_wh_ind].append(distanceOfRoute)\n",
        "                            all_mean_fill[chosen_wh_ind].append(stats.mean_fill)\n",
        "                            all_mean_fill_bin[chosen_wh_ind].append(stats.mean_fill_bin)\n",
        "                            cost = distanceOfRoute * chosen_vehicle.cost\n",
        "                            total_cost[chosen_wh_ind] += cost\n",
        "                            strprint += \" -- \" + str(distanceOfRoute) + \"km\" + \"(₺\" + str(int(cost)) + \")\"\n",
        "                            duration = distanceOfRoute/(chosen_vehicle.speed) + (len(newroute)-2)*1 # LOAD UNLOAD DURATION\n",
        "                            if duration > 9: duration = 24*int(duration/9) + duration%9             # maximum travel duration in a day is 9 hours\n",
        "                            chosen_vehicle.return_time = time + duration/24                         # conversion to days\n",
        "                            print(strprint)\n",
        "                            fleets[chosen_wh_ind].avail_check()                                     # regular updates to the fleet after a change\n",
        "                        else: \n",
        "                            possible_depots.remove(chosen_wh_ind)                                   # remove the base from eligibles if no vehicle is found\n",
        "                            print(\"No vehicle found in \", customers[chosen_wh_ind].name)\n",
        "                            # update the vehicle availability statistic since there will be no change for the rest of the day\n",
        "                            vehicle_avail[chosen_wh_ind].append(fleets[chosen_wh_ind].available_lorry + fleets[chosen_wh_ind].available_truck)\n",
        "                    else:\n",
        "                        possible_depots.remove(chosen_wh_ind)                                       # remove the base from eligibles if proposed destination does not satisfy the threshold\n",
        "                        print(\"Shipments from \", customers[chosen_wh_ind].name, \" no longer desirable today.\")\n",
        "                        # update the vehicle availability statistic since there will be no change for the rest of the day\n",
        "                        vehicle_avail[chosen_wh_ind].append(fleets[chosen_wh_ind].available_lorry + fleets[chosen_wh_ind].available_truck)\n",
        "        else: # weekends\n",
        "            print(\"WEEKEND\")\n",
        "        if time%1 == 0:     #service level(expected delivery duration) is updated once a day\n",
        "            for cust in customers:\n",
        "                cust.serviceLevel.append(cust.days_since_ship)\n",
        "\n",
        "weightedFillRates=[]        # statistics\n",
        "for d in range(exit_points):  \n",
        "    weightedFillRates.append(np.inner(all_distances[d],all_mean_fill[d]) / sum(all_distances[d]))\n",
        "\n",
        "weightedFillRatesBin=[]\n",
        "for d in range(exit_points):  \n",
        "    weightedFillRatesBin.append(np.inner(all_distances[d],all_mean_fill_bin[d]) / sum(all_distances[d]))\n",
        "\n",
        "print(plan_for)\n",
        "print(total_cost)\n",
        "print(sum(total_cost))\n",
        "#left-over\n",
        "leftOver=0\n",
        "for c in customers:                 #print total remaining demand not satisfied\n",
        "    leftOver+= sum(c.acc_orders)\n",
        "print(\"leftover\", leftOver)\n",
        "\n"
      ],
      "execution_count": 5,
      "outputs": [
        {
          "output_type": "stream",
          "text": [
            "\n",
            "### DAY  1  MORNING ###\n",
            "WEEKEND\n",
            "\n",
            "### DAY  1  NOON ###\n",
            "WEEKEND\n",
            "\n",
            "### DAY  2  MORNING ###\n",
            "34 DTG 1 GebzeDepo -> MigrosKocaeli(given:23) -> Ozyigit(given:10) -> AlasehirDepo(given:0) -> GebzeDepo(taken:33) -- 935.0km(₺2627)\n",
            "34 DTN 1 NevsehirDepo -> OnurNevsehir(given:12) -> AltanlarKonya(given:19) -> MersinAntrepo(given:0) -> NevsehirDepo(taken:33) -- 890.0km(₺2500)\n",
            "34 DTA 1 AlasehirDepo -> MetroIzmir(given:33) -> BilecikFabrika(given:0) -> AlasehirDepo(taken:33) -- 940.0km(₺2641)\n",
            "34 DTG 2 GebzeDepo -> PirimIstanbul(given:33) -> AlasehirDepo(given:0) -> GebzeDepo(taken:33) -- 1037.0km(₺2913)\n",
            "34 DTG 3 GebzeDepo -> Gurpa2(given:33) -> BilecikFabrika(given:0) -> GebzeDepo(taken:33) -- 430.0km(₺1208)\n",
            "34 DTG 4 GebzeDepo -> CarrefourKocaeli(given:17) -> GulenerKocaeli(given:16) -> NevsehirDepo(given:0) -> GebzeDepo(taken:33) -- 1439.0km(₺4043)\n",
            "34 DTG 5 GebzeDepo -> Gurpa1(given:32) -> Gurpa2(given:1) -> GebzeDepo -- 146.0km(₺410)\n",
            "34 DTG 6 GebzeDepo -> DogusEsenyurt(given:33) -> SarkoyFabrika(given:0) -> GebzeDepo(taken:33) -- 593.0km(₺1666)\n",
            "34 DTG 7 GebzeDepo -> MigrosEsenyurt(given:25) -> CarrefourIstanbul(given:8) -> GebzeDepo -- 191.0km(₺536)\n",
            "34 DTA 2 AlasehirDepo -> CantaylarManisa(given:15) -> GurpaIzmir(given:18) -> AlasehirDepo -- 258.0km(₺724)\n",
            "34 DTG 8 GebzeDepo -> Ozyigit(given:14) -> GurpaAsya(given:16) -> DogusAsya(given:3) -> GebzeDepo -- 157.0km(₺441)\n",
            "34 DTA 3 AlasehirDepo -> MigrosIzmir(given:22) -> CarrefourIzmir(given:11) -> AlasehirDepo -- 285.0km(₺800)\n",
            "34 DKG 13 GebzeDepo -> TespoKartal(given:4) -> Cukuroglu(given:4) -> DogusAsya(given:10) -> GebzeDepo -- 144.0km(₺357)\n",
            "34 DTA 4 AlasehirDepo -> BizimyakiDenizli(given:17) -> TespoDenizli(given:5) -> MigrosMugla(given:11) -> AlasehirDepo -- 485.0km(₺1362)\n",
            "34 DTN 2 NevsehirDepo -> MersinAntrepo(given:0) -> NevsehirDepo(taken:33) -- 538.0km(₺1511)\n",
            "34 DKN 10 NevsehirDepo -> DunyaKayseri(given:12) -> YuksellerKirsehir(given:6) -> NevsehirDepo -- 311.0km(₺771)\n",
            "34 DTA 5 AlasehirDepo -> PirimIzmir(given:23) -> TespoKarabaglar(given:3) -> MetroIzmir(given:7) -> AlasehirDepo -- 327.0km(₺918)\n",
            "34 DTA 6 AlasehirDepo -> Murpa(given:15) -> TespoEskisehir(given:13) -> DorukEskisehir(given:5) -> BilecikFabrika(given:0) -> AlasehirDepo(taken:33) -- 743.0km(₺2087)\n",
            "34 DTA 7 AlasehirDepo -> ANDAAntalya(given:33) -> NevsehirDepo(given:0) -> AlasehirDepo(taken:33) -- 1505.0km(₺4229)\n",
            "34 DTG 9 GebzeDepo -> KoseogluSakarya(given:12) -> KoseogluDuzce(given:11) -> NevsehirDepo_dem(given:10) -> NevsehirDepo(given:0) -> GebzeDepo(taken:33) -- 1355.0km(₺3807)\n",
            "34 DKN 11 NevsehirDepo -> DunyaAksaray(given:9) -> DunyaNigde(given:8) -> NevsehirDepo -- 253.0km(₺627)\n",
            "34 DKN 12 NevsehirDepo -> MigrosAnkara(given:18) -> GebzeDepo(given:0) -> NevsehirDepo(taken:18) -- 1383.0km(₺3429)\n",
            "34 DTG 10 GebzeDepo -> PirimIstanbul(given:9) -> CarrefourIstanbul(given:8) -> DogusEsenyurt(given:7) -> MigrosKırac(given:4) -> DogusSilivri(given:5) -> GebzeDepo -- 283.0km(₺795)\n",
            "34 DTN 3 NevsehirDepo -> MigrosAdana(given:15) -> AlfaAdana(given:15) -> CarrefourAdana(given:3) -> NevsehirDepo -- 517.0km(₺1452)\n",
            "34 DTA 8 AlasehirDepo -> MetroIzmir(given:12) -> GurpaIzmir(given:7) -> TespoBornova(given:3) -> DinoManisa(given:9) -> AlasehirDepo -- 321.0km(₺902)\n",
            "34 DTN 4 NevsehirDepo -> ElazigFabrika(given:0) -> NevsehirDepo(taken:33) -- 1042.0km(₺2928)\n",
            "34 DTG 11 GebzeDepo -> DogusCorlu(given:14) -> TrakyaErza(given:15) -> GebzeDepo -- 466.0km(₺1309)\n",
            "34 DTA 9 AlasehirDepo -> PirimAydin(given:16) -> TespoKusadasi(given:2) -> PirimBodrum(given:15) -> AlasehirDepo -- 668.0km(₺1877)\n",
            "34 DKG 14 GebzeDepo -> DogusAsya(given:6) -> TespoKucukkoy(given:3) -> TespoBeylikduzu(given:4) -> DogusSilivri(given:5) -> GebzeDepo -- 317.0km(₺786)\n",
            "34 DTA 10 AlasehirDepo -> GebzeDepo_dem(given:33) -> GebzeDepo(given:0) -> AlasehirDepo(taken:33) -- 876.0km(₺2461)\n",
            "34 DTN 5 NevsehirDepo -> GramAnkara(given:21) -> DunyaAnkara(given:12) -> BilecikFabrika(given:0) -> NevsehirDepo(taken:33) -- 1164.0km(₺3270)\n",
            "34 DTG 12 GebzeDepo -> DunyaZonguldak(given:24) -> NevsehirDepo_dem(given:9) -> NevsehirDepo(given:0) -> GebzeDepo(taken:33) -- 1538.0km(₺4321)\n",
            "34 DTA 11 AlasehirDepo -> MigrosAntalya(given:14) -> InciAntalya(given:15) -> TespoSide(given:2) -> AlasehirDepo -- 792.0km(₺2225)\n",
            "34 DTA 12 AlasehirDepo -> MigrosBursa(given:13) -> DogusBursa(given:17) -> OzdilekBursa(given:3) -> AlasehirDepo -- 720.0km(₺2023)\n",
            "34 DTN 6 NevsehirDepo -> MerpasIcel(given:15) -> MersinAntrepo(given:0) -> NevsehirDepo(taken:33) -- 538.0km(₺1511)\n",
            "34 DTN 7 NevsehirDepo -> ErtuCorum(given:15) -> ErtuSamsun(given:16) -> ErtuMerzifon(given:2) -> NevsehirDepo -- 718.0km(₺2017)\n",
            "34 DTA 13 AlasehirDepo -> BilicanlarBayir(given:9) -> BilicanlarFethiye(given:11) -> TespoFethiye(given:3) -> DalamanHavaalani(given:8) -> AlasehirDepo -- 694.0km(₺1950)\n",
            "34 DTA 14 AlasehirDepo -> RitBursa(given:16) -> OzdilekBursa(given:7) -> TespoBursa(given:2) -> GebzeDepo_dem(given:8) -> AlasehirDepo -- 898.0km(₺2523)\n",
            "34 ST 01 MersinAntrepo -> AlasehirDepo_dem(given:33) -- 797.0km(₺2239)\n",
            "Shipments from  GebzeDepo  no longer desirable today.\n",
            "34 DKA 15 AlasehirDepo -> BayraktarEdremit(given:10) -> BayraktarCanakkale(given:8) -> AlasehirDepo -- 672.0km(₺1666)\n",
            "34 DTN 8 NevsehirDepo -> SesSivas(given:10) -> ErtuTokat(given:10) -> AltanlarOrdu(given:13) -> NevsehirDepo -- 1118.0km(₺3141)\n",
            "34 DTN 9 NevsehirDepo -> GebzeDepo_dem(given:33) -> GebzeDepo(given:0) -> NevsehirDepo(taken:33) -- 1382.0km(₺3883)\n",
            "34 DKA 16 AlasehirDepo -> CantaylarIsparta(given:9) -> ANDAAntalya(given:9) -> AlasehirDepo -- 711.0km(₺1763)\n",
            "34 DKN 13 NevsehirDepo -> YuksellerKirikkale(given:7) -> DunyaAnkara(given:8) -> CarrefourAnkara(given:3) -> NevsehirDepo -- 685.0km(₺1698)\n",
            "34 DKN 14 NevsehirDepo -> MerpasAnamur(given:13) -> NevsehirDepo -- 948.0km(₺2351)\n",
            "34 DKN 15 NevsehirDepo -> AltanlarEregli(given:5) -> MersasCeyhan(given:8) -> CarrefourAdana(given:5) -> NevsehirDepo -- 736.0km(₺1825)\n",
            "34 ST 01 ElazigFabrika -> GebzeDepo_dem(given:33) -- 1149.0km(₺3228)\n",
            "Shipments from  AlasehirDepo  no longer desirable today.\n",
            "Shipments from  NevsehirDepo  no longer desirable today.\n",
            "Shipments from  BilecikFabrika  no longer desirable today.\n",
            "Shipments from  SarkoyFabrika  no longer desirable today.\n",
            "Shipments from  ElazigFabrika  no longer desirable today.\n",
            "Shipments from  MersinAntrepo  no longer desirable today.\n",
            "\n",
            "### DAY  2  NOON ###\n",
            "#RETURN:  34 DTG 5  returned to  GebzeDepo\n",
            "#RETURN:  34 ST 01  returned to  MersinAntrepo\n",
            "Shipments from  GebzeDepo  no longer desirable today.\n",
            "Shipments from  AlasehirDepo  no longer desirable today.\n",
            "Shipments from  NevsehirDepo  no longer desirable today.\n",
            "Shipments from  BilecikFabrika  no longer desirable today.\n",
            "Shipments from  SarkoyFabrika  no longer desirable today.\n",
            "Shipments from  ElazigFabrika  no longer desirable today.\n",
            "Shipments from  MersinAntrepo  no longer desirable today.\n",
            "\n",
            "### DAY  3  MORNING ###\n",
            "#RETURN:  34 DTG 7  returned to  GebzeDepo\n",
            "#RETURN:  34 DTG 8  returned to  GebzeDepo\n",
            "#RETURN:  34 DKG 13  returned to  GebzeDepo\n",
            "#RETURN:  34 DKN 10  returned to  NevsehirDepo\n",
            "#RETURN:  34 DKN 11  returned to  NevsehirDepo\n",
            "#RETURN:  34 DTA 2  returned to  AlasehirDepo\n",
            "#RETURN:  34 DTA 3  returned to  AlasehirDepo\n",
            "#RETURN:  34 ST 01  returned to  ElazigFabrika\n",
            "34 DTG 5 GebzeDepo -> MigrosKocaeli(given:23) -> GurpaAsya(given:10) -> BilecikFabrika(given:0) -> GebzeDepo(taken:33) -- 382.0km(₺1073)\n",
            "34 DTG 7 GebzeDepo -> MigrosEsenyurt(given:25) -> DogusEsenyurt(given:8) -> GebzeDepo -- 191.0km(₺536)\n",
            "34 DTG 8 GebzeDepo -> PirimIstanbul(given:21) -> DogusEsenyurt(given:12) -> GebzeDepo -- 193.0km(₺542)\n",
            "34 DKG 13 GebzeDepo -> GulenerKocaeli(given:16) -> GebzeDepo -- 142.0km(₺352)\n",
            "34 ST 01 GebzeDepo -> Gurpa2(given:17) -> Gurpa1(given:16) -- 73.0km(₺205)\n",
            "34 DTA 2 AlasehirDepo -> GurpaIzmir(given:25) -> MetroIzmir(given:8) -> AlasehirDepo -- 304.0km(₺854)\n",
            "34 DTA 3 AlasehirDepo -> MigrosIzmir(given:22) -> CarrefourIzmir(given:1) -> MetroIzmir(given:10) -> AlasehirDepo -- 339.0km(₺952)\n",
            "34 DKA 17 AlasehirDepo -> PirimIzmir(given:18) -> AlasehirDepo -- 321.0km(₺796)\n",
            "34 ST 02 GebzeDepo -> GurpaAsya(given:6) -> GurpaKesan(given:11) -> MahaloGıda(given:7) -- 412.0km(₺1157)\n",
            "34 ST 01 BilecikFabrika -> AlasehirDepo_dem(given:33) -- 336.0km(₺944)\n",
            "34 DKN 10 NevsehirDepo -> MigrosAnkara(given:18) -> AlasehirDepo(given:0) -> NevsehirDepo(taken:18) -- 1419.0km(₺3519)\n",
            "34 DKA 18 AlasehirDepo -> GebzeDepo_dem(given:18) -> GebzeDepo(given:0) -> AlasehirDepo(taken:18) -- 876.0km(₺2172)\n",
            "34 DKA 19 AlasehirDepo -> GebzeDepo_dem(given:18) -> GebzeDepo(given:0) -> AlasehirDepo(taken:18) -- 876.0km(₺2172)\n",
            "34 DKA 20 AlasehirDepo -> PirimAydin(given:16) -> TespoAydin(given:2) -> AlasehirDepo -- 448.0km(₺1111)\n",
            "34 DKN 11 NevsehirDepo -> DunyaAnkara(given:18) -> BilecikFabrika(given:0) -> NevsehirDepo(taken:18) -- 1165.0km(₺2889)\n",
            "34 ST 01 NevsehirDepo -> GramAnkara(given:21) -> DunyaAnkara(given:2) -> CarrefourAnkara(given:1) -- 345.0km(₺969)\n",
            "Contracted route detected\n",
            "34 ST 02 NevsehirDepo -> GebzeDepo_dem(given:33) -- 691.0km(₺3092)\n",
            "34 DKA 21 AlasehirDepo -> ANDAAntalya(given:18) -> NevsehirDepo(given:0) -> AlasehirDepo(taken:18) -- 1505.0km(₺3732)\n",
            "34 ST 01 AlasehirDepo -> MetroIzmir(given:8) -> PirimIzmir(given:5) -> BilicanlarMarmaris(given:12) -> TespoMarmaris(given:3) -> BilicanlarFethiye(given:5) -- 560.0km(₺1573)\n",
            "34 ST 03 NevsehirDepo -> AlfaAdana(given:15) -> MerpasIcel(given:15) -- 345.0km(₺969)\n",
            "Contracted route detected\n",
            "34 ST 02 AlasehirDepo -> GebzeDepo_dem(given:33) -- 438.0km(₺2734)\n",
            "Contracted route detected\n",
            "34 ST 04 NevsehirDepo -> GebzeDepo_dem(given:33) -- 691.0km(₺3092)\n",
            "Contracted route detected\n",
            "34 ST 05 NevsehirDepo -> AlasehirDepo_dem(given:33) -- 650.0km(₺3786)\n",
            "34 ST 03 AlasehirDepo -> InciAntalya(given:15) -> TurtemAntalya(given:6) -> BilicanlarFethiye(given:6) -- 759.0km(₺2132)\n",
            "34 ST 06 NevsehirDepo -> MigrosErzurum(given:12) -> TanriverdiErzurum(given:9) -> KesginGrup(given:12) -- 936.0km(₺2630)\n",
            "34 ST 04 AlasehirDepo -> TespoBalikesir(given:3) -> BayraktarBalikesir(given:5) -- 193.0km(₺542)\n",
            "34 ST 05 AlasehirDepo -> NevsehirDepo_dem(given:33) -- 651.0km(₺1829)\n",
            "34 ST 07 NevsehirDepo -> Cagan(given:9) -> EkerGaziantep(given:11) -> AlfaHatay(given:11) -- 624.0km(₺1753)\n",
            "Shipments from  AlasehirDepo  no longer desirable today.\n",
            "Shipments from  NevsehirDepo  no longer desirable today.\n",
            "Shipments from  BilecikFabrika  no longer desirable today.\n",
            "Shipments from  GebzeDepo  no longer desirable today.\n",
            "Shipments from  MersinAntrepo  no longer desirable today.\n",
            "Shipments from  SarkoyFabrika  no longer desirable today.\n",
            "Shipments from  ElazigFabrika  no longer desirable today.\n",
            "\n",
            "### DAY  3  NOON ###\n",
            "#RETURN:  34 DTG 3  returned to  GebzeDepo\n",
            "#RETURN:  34 DTG 6  returned to  GebzeDepo\n",
            "#RETURN:  34 DTG 10  returned to  GebzeDepo\n",
            "#RETURN:  34 DTG 11  returned to  GebzeDepo\n",
            "#RETURN:  34 DKG 13  returned to  GebzeDepo\n",
            "#RETURN:  34 DKG 14  returned to  GebzeDepo\n",
            "#RETURN:  34 ST 01  returned to  GebzeDepo\n",
            "#RETURN:  34 ST 02  returned to  GebzeDepo\n",
            "#RETURN:  34 DTN 2  returned to  NevsehirDepo\n",
            "#RETURN:  34 DTN 3  returned to  NevsehirDepo\n",
            "#RETURN:  34 DTN 6  returned to  NevsehirDepo\n",
            "#RETURN:  34 ST 01  returned to  NevsehirDepo\n",
            "#RETURN:  34 ST 02  returned to  NevsehirDepo\n",
            "#RETURN:  34 ST 03  returned to  NevsehirDepo\n",
            "#RETURN:  34 ST 04  returned to  NevsehirDepo\n",
            "#RETURN:  34 ST 05  returned to  NevsehirDepo\n",
            "#RETURN:  34 ST 07  returned to  NevsehirDepo\n",
            "#RETURN:  34 DTA 4  returned to  AlasehirDepo\n",
            "#RETURN:  34 DTA 5  returned to  AlasehirDepo\n",
            "#RETURN:  34 DTA 8  returned to  AlasehirDepo\n",
            "#RETURN:  34 DKA 15  returned to  AlasehirDepo\n",
            "#RETURN:  34 DKA 16  returned to  AlasehirDepo\n",
            "#RETURN:  34 ST 01  returned to  AlasehirDepo\n",
            "#RETURN:  34 ST 02  returned to  AlasehirDepo\n",
            "#RETURN:  34 ST 04  returned to  AlasehirDepo\n",
            "#RETURN:  34 ST 05  returned to  AlasehirDepo\n",
            "#RETURN:  34 ST 01  returned to  BilecikFabrika\n",
            "Shipments from  AlasehirDepo  no longer desirable today.\n",
            "Shipments from  NevsehirDepo  no longer desirable today.\n",
            "Shipments from  BilecikFabrika  no longer desirable today.\n",
            "Shipments from  GebzeDepo  no longer desirable today.\n",
            "Shipments from  MersinAntrepo  no longer desirable today.\n",
            "Shipments from  SarkoyFabrika  no longer desirable today.\n",
            "Shipments from  ElazigFabrika  no longer desirable today.\n",
            "\n",
            "### DAY  4  MORNING ###\n",
            "#RETURN:  34 DTG 7  returned to  GebzeDepo\n",
            "#RETURN:  34 DTG 8  returned to  GebzeDepo\n",
            "#RETURN:  34 DTN 7  returned to  NevsehirDepo\n",
            "#RETURN:  34 DKN 13  returned to  NevsehirDepo\n",
            "#RETURN:  34 DKN 14  returned to  NevsehirDepo\n",
            "#RETURN:  34 DKN 15  returned to  NevsehirDepo\n",
            "#RETURN:  34 ST 06  returned to  NevsehirDepo\n",
            "#RETURN:  34 DTA 2  returned to  AlasehirDepo\n",
            "#RETURN:  34 DTA 6  returned to  AlasehirDepo\n",
            "#RETURN:  34 DTA 9  returned to  AlasehirDepo\n",
            "#RETURN:  34 DTA 10  returned to  AlasehirDepo\n",
            "#RETURN:  34 DTA 11  returned to  AlasehirDepo\n",
            "#RETURN:  34 DTA 12  returned to  AlasehirDepo\n",
            "#RETURN:  34 DTA 13  returned to  AlasehirDepo\n",
            "#RETURN:  34 DKA 17  returned to  AlasehirDepo\n",
            "#RETURN:  34 ST 03  returned to  AlasehirDepo\n",
            "34 DTG 3 GebzeDepo -> Ozyigit(given:24) -> DogusAsya(given:9) -> GebzeDepo -- 153.0km(₺429)\n",
            "34 DTG 6 GebzeDepo -> CarrefourIstanbul(given:16) -> DogusEsenyurt(given:17) -> SarkoyFabrika(given:0) -> GebzeDepo(taken:33) -- 593.0km(₺1666)\n",
            "34 DTA 2 AlasehirDepo -> CantaylarManisa(given:15) -> MetroIzmir(given:18) -> AlasehirDepo -- 301.0km(₺845)\n",
            "34 DTG 7 GebzeDepo -> PirimIstanbul(given:21) -> Gurpa1(given:12) -> GebzeDepo -- 175.0km(₺491)\n",
            "34 DTG 8 GebzeDepo -> Gurpa2(given:17) -> Gurpa1(given:4) -> DogusAsya(given:10) -> GebzeDepo -- 167.0km(₺469)\n",
            "34 DTN 2 NevsehirDepo -> MersinAntrepo(given:0) -> NevsehirDepo(taken:33) -- 538.0km(₺1511)\n",
            "34 DTA 4 AlasehirDepo -> BizimyakiDenizli(given:17) -> TespoDenizli(given:5) -> MigrosMugla(given:11) -> AlasehirDepo -- 485.0km(₺1362)\n",
            "34 DTG 10 GebzeDepo -> KoseogluSakarya(given:12) -> NevsehirDepo_dem(given:21) -> NevsehirDepo(given:0) -> GebzeDepo(taken:33) -- 1353.0km(₺3801)\n",
            "34 ST 01 BilecikFabrika -> AlasehirDepo_dem(given:33) -- 336.0km(₺944)\n",
            "Converted to spot delivery!\n",
            "Contracted route detected\n",
            "34 ST 01 AlasehirDepo -> GebzeDepo_dem(given:33) -> AlasehirDepo -- 876.0km(₺2734)\n",
            "34 DTA 5 AlasehirDepo -> CarrefourIzmir(given:0) -> AlasehirDepo -- 285.0km(₺800)\n",
            "34 DTA 6 AlasehirDepo -> CarrefourIzmir(given:12) -> MetroIzmir(given:8) -> PirimBodrum(given:13) -> AlasehirDepo -- 710.0km(₺1995)\n",
            "34 DTA 8 AlasehirDepo -> DorukEskisehir(given:21) -> OzdilekEskisehir(given:3) -> RitBursa(given:9) -> AlasehirDepo -- 815.0km(₺2290)\n",
            "34 DTG 11 GebzeDepo -> DogusCorlu(given:14) -> TrakyaErza(given:15) -> GebzeDepo -- 466.0km(₺1309)\n",
            "34 DTA 9 AlasehirDepo -> ANDAAntalya(given:24) -> MigrosAntalya(given:9) -> NevsehirDepo(given:0) -> AlasehirDepo(taken:33) -- 1508.0km(₺4237)\n",
            "34 DTN 3 NevsehirDepo -> MigrosAdana(given:15) -> CarrefourAdana(given:8) -> AlfaHatay(given:10) -> NevsehirDepo -- 888.0km(₺2495)\n",
            "34 DTN 6 NevsehirDepo -> AltanlarTrabzon(given:32) -> NevsehirDepo -- 1328.0km(₺3731)\n",
            "Converted to spot delivery!\n",
            "Contracted route detected\n",
            "34 ST 02 AlasehirDepo -> GebzeDepo_dem(given:33) -> AlasehirDepo -- 876.0km(₺2734)\n",
            "34 DTN 7 NevsehirDepo -> GebzeDepo_dem(given:33) -> GebzeDepo(given:0) -> NevsehirDepo(taken:33) -- 1382.0km(₺3883)\n",
            "34 DKN 13 NevsehirDepo -> AltanlarOrdu(given:18) -> NevsehirDepo -- 1061.0km(₺2631)\n",
            "34 DTA 10 AlasehirDepo -> DogusBursa(given:0) -> AlasehirDepo -- 720.0km(₺2023)\n",
            "34 DTA 11 AlasehirDepo -> DogusBursa(given:17) -> RitBursa(given:7) -> TespoAltinova(given:4) -> GebzeDepo_dem(given:5) -> AlasehirDepo -- 911.0km(₺2559)\n",
            "34 DKN 14 NevsehirDepo -> ErtuSamsun(given:16) -> ErtuMerzifon(given:2) -> NevsehirDepo -- 718.0km(₺1780)\n",
            "Shipments from  GebzeDepo  no longer desirable today.\n",
            "34 DTA 12 AlasehirDepo -> BayraktarEdremit(given:10) -> BayraktarCanakkale(given:8) -> BayraktarBiga(given:8) -> AlasehirDepo -- 876.0km(₺2461)\n",
            "34 DTA 13 AlasehirDepo -> CantaylarIsparta(given:9) -> NevsehirDepo_dem(given:24) -> NevsehirDepo(given:0) -> AlasehirDepo(taken:33) -- 1375.0km(₺3863)\n",
            "34 DKN 15 NevsehirDepo -> Tuncerler(given:18) -> NevsehirDepo -- 1615.0km(₺4005)\n",
            "No vehicle found in  NevsehirDepo\n",
            "Shipments from  AlasehirDepo  no longer desirable today.\n",
            "Shipments from  BilecikFabrika  no longer desirable today.\n",
            "Shipments from  MersinAntrepo  no longer desirable today.\n",
            "Shipments from  SarkoyFabrika  no longer desirable today.\n",
            "Shipments from  ElazigFabrika  no longer desirable today.\n",
            "\n",
            "### DAY  4  NOON ###\n",
            "#RETURN:  34 DTG 1  returned to  GebzeDepo\n",
            "#RETURN:  34 DTG 2  returned to  GebzeDepo\n",
            "#RETURN:  34 DTG 3  returned to  GebzeDepo\n",
            "#RETURN:  34 DTG 5  returned to  GebzeDepo\n",
            "#RETURN:  34 DTG 7  returned to  GebzeDepo\n",
            "#RETURN:  34 DTN 1  returned to  NevsehirDepo\n",
            "#RETURN:  34 DTN 4  returned to  NevsehirDepo\n",
            "#RETURN:  34 DTN 5  returned to  NevsehirDepo\n",
            "#RETURN:  34 DTN 8  returned to  NevsehirDepo\n",
            "#RETURN:  34 ST 01  returned to  NevsehirDepo\n",
            "#RETURN:  34 DTA 1  returned to  AlasehirDepo\n",
            "#RETURN:  34 DTA 3  returned to  AlasehirDepo\n",
            "#RETURN:  34 DTA 14  returned to  AlasehirDepo\n",
            "#RETURN:  34 DKA 20  returned to  AlasehirDepo\n",
            "#RETURN:  34 ST 01  returned to  BilecikFabrika\n",
            "Shipments from  GebzeDepo  no longer desirable today.\n",
            "No vehicle found in  NevsehirDepo\n",
            "Shipments from  AlasehirDepo  no longer desirable today.\n",
            "Shipments from  BilecikFabrika  no longer desirable today.\n",
            "Shipments from  MersinAntrepo  no longer desirable today.\n",
            "Shipments from  SarkoyFabrika  no longer desirable today.\n",
            "Shipments from  ElazigFabrika  no longer desirable today.\n",
            "\n",
            "### DAY  5  MORNING ###\n",
            "#RETURN:  34 DTG 8  returned to  GebzeDepo\n",
            "#RETURN:  34 DTN 9  returned to  NevsehirDepo\n",
            "#RETURN:  34 DKN 12  returned to  NevsehirDepo\n",
            "#RETURN:  34 DTA 2  returned to  AlasehirDepo\n",
            "#RETURN:  34 DTA 5  returned to  AlasehirDepo\n",
            "#RETURN:  34 DKA 18  returned to  AlasehirDepo\n",
            "#RETURN:  34 DKA 19  returned to  AlasehirDepo\n",
            "#RETURN:  34 ST 01  returned to  AlasehirDepo\n",
            "#RETURN:  34 ST 02  returned to  AlasehirDepo\n",
            "34 DTG 1 GebzeDepo -> MigrosKocaeli(given:23) -> GurpaAsya(given:10) -> BilecikFabrika(given:0) -> GebzeDepo(taken:33) -- 382.0km(₺1073)\n",
            "34 DTG 2 GebzeDepo -> CarrefourKocaeli(given:17) -> GulenerKocaeli(given:16) -> GebzeDepo -- 180.0km(₺505)\n",
            "34 DTG 3 GebzeDepo -> MigrosEsenyurt(given:25) -> DogusEsenyurt(given:8) -> GebzeDepo -- 191.0km(₺536)\n",
            "34 DTG 5 GebzeDepo -> PirimIstanbul(given:21) -> DogusEsenyurt(given:12) -> GebzeDepo -- 193.0km(₺542)\n",
            "34 DTA 1 AlasehirDepo -> GurpaIzmir(given:25) -> MetroIzmir(given:8) -> AlasehirDepo -- 304.0km(₺854)\n",
            "34 DTG 7 GebzeDepo -> Gurpa2(given:17) -> Gurpa1(given:16) -> GebzeDepo -- 146.0km(₺410)\n",
            "34 DTN 1 NevsehirDepo -> MersinAntrepo(given:0) -> NevsehirDepo(taken:33) -- 538.0km(₺1511)\n",
            "34 DTA 2 AlasehirDepo -> MigrosIzmir(given:22) -> MetroIzmir(given:11) -> AlasehirDepo -- 339.0km(₺952)\n",
            "34 DKN 12 NevsehirDepo -> MigrosAnkara(given:18) -> BilecikFabrika(given:0) -> NevsehirDepo(taken:18) -- 1162.0km(₺2881)\n",
            "34 DTA 3 AlasehirDepo -> PirimIzmir(given:23) -> MetroIzmir(given:7) -> PirimAydin(given:3) -> AlasehirDepo -- 466.0km(₺1309)\n",
            "34 DTA 5 AlasehirDepo -> Murpa(given:15) -> ANDAAntalya(given:18) -> AlasehirDepo -- 740.0km(₺2079)\n",
            "34 ST 01 BilecikFabrika -> AlasehirDepo_dem(given:33) -- 336.0km(₺944)\n",
            "34 DKG 13 GebzeDepo -> GurpaAsya(given:6) -> DogusEsenyurt(given:3) -> GebzeDepo -- 195.0km(₺483)\n",
            "34 DTN 4 NevsehirDepo -> GebzeDepo_dem(given:33) -> GebzeDepo(given:0) -> NevsehirDepo(taken:33) -- 1382.0km(₺3883)\n",
            "34 DTA 14 AlasehirDepo -> GebzeDepo_dem(given:33) -> GebzeDepo(given:0) -> AlasehirDepo(taken:33) -- 876.0km(₺2461)\n",
            "34 DTN 5 NevsehirDepo -> DunyaAnkara(given:20) -> GramAnkara(given:13) -> NevsehirDepo -- 611.0km(₺1716)\n",
            "34 DTN 8 NevsehirDepo -> GebzeDepo_dem(given:33) -> BilecikFabrika(given:0) -> NevsehirDepo(taken:33) -- 1387.0km(₺3897)\n",
            "34 DKA 15 AlasehirDepo -> PirimAydin(given:13) -> AlasehirDepo -- 436.0km(₺1081)\n",
            "34 DTN 9 NevsehirDepo -> AlfaAdana(given:15) -> MerpasIcel(given:15) -> MersinAntrepo(given:0) -> NevsehirDepo(taken:33) -- 615.0km(₺1728)\n",
            "34 DKA 16 AlasehirDepo -> GebzeDepo_dem(given:18) -> AlasehirDepo -- 876.0km(₺2172)\n",
            "34 DKA 17 AlasehirDepo -> MigrosBursa(given:13) -> BayraktarBalikesir(given:5) -> AlasehirDepo -- 700.0km(₺1736)\n",
            "Shipments from  GebzeDepo  no longer desirable today.\n",
            "34 ST 01 NevsehirDepo -> CarrefourSamsun(given:6) -> TespoSamsun(given:2) -> ErtuMerzifon(given:10) -> KokdemirlerSinop(given:8) -- 859.0km(₺2413)\n",
            "34 DKA 18 AlasehirDepo -> BilicanlarFethiye(given:11) -> BilicanlarMarmaris(given:6) -> AlasehirDepo -- 687.0km(₺1703)\n",
            "34 DKA 19 AlasehirDepo -> InciAntalya(given:15) -> MigrosAntalya(given:3) -> AlasehirDepo -- 793.0km(₺1966)\n",
            "Contracted route detected\n",
            "34 ST 02 NevsehirDepo -> GebzeDepo_dem(given:33) -- 691.0km(₺3092)\n",
            "No vehicle found in  NevsehirDepo\n",
            "Shipments from  AlasehirDepo  no longer desirable today.\n",
            "Shipments from  BilecikFabrika  no longer desirable today.\n",
            "Shipments from  SarkoyFabrika  no longer desirable today.\n",
            "Shipments from  ElazigFabrika  no longer desirable today.\n",
            "Shipments from  MersinAntrepo  no longer desirable today.\n",
            "\n",
            "### DAY  5  NOON ###\n",
            "#RETURN:  34 DTG 4  returned to  GebzeDepo\n",
            "#RETURN:  34 DTG 6  returned to  GebzeDepo\n",
            "#RETURN:  34 DTG 7  returned to  GebzeDepo\n",
            "#RETURN:  34 DTG 9  returned to  GebzeDepo\n",
            "#RETURN:  34 DTG 11  returned to  GebzeDepo\n",
            "#RETURN:  34 DTG 12  returned to  GebzeDepo\n",
            "#RETURN:  34 DTN 2  returned to  NevsehirDepo\n",
            "#RETURN:  34 DKN 11  returned to  NevsehirDepo\n",
            "#RETURN:  34 DKN 14  returned to  NevsehirDepo\n",
            "#RETURN:  34 ST 02  returned to  NevsehirDepo\n",
            "#RETURN:  34 ST 03  returned to  NevsehirDepo\n",
            "#RETURN:  34 DTA 4  returned to  AlasehirDepo\n",
            "#RETURN:  34 DTA 7  returned to  AlasehirDepo\n",
            "#RETURN:  34 DTA 10  returned to  AlasehirDepo\n",
            "#RETURN:  34 ST 01  returned to  BilecikFabrika\n",
            "Shipments from  GebzeDepo  no longer desirable today.\n",
            "34 DKN 11 NevsehirDepo -> YuksellerKastamonu(given:10) -> GramAnkara(given:8) -> NevsehirDepo -- 961.0km(₺2383)\n",
            "Shipments from  NevsehirDepo  no longer desirable today.\n",
            "Shipments from  AlasehirDepo  no longer desirable today.\n",
            "Shipments from  BilecikFabrika  no longer desirable today.\n",
            "Shipments from  SarkoyFabrika  no longer desirable today.\n",
            "Shipments from  ElazigFabrika  no longer desirable today.\n",
            "Shipments from  MersinAntrepo  no longer desirable today.\n",
            "\n",
            "### DAY  6  MORNING ###\n",
            "#RETURN:  34 DTG 2  returned to  GebzeDepo\n",
            "#RETURN:  34 DTG 3  returned to  GebzeDepo\n",
            "#RETURN:  34 DTG 5  returned to  GebzeDepo\n",
            "#RETURN:  34 DKG 13  returned to  GebzeDepo\n",
            "#RETURN:  34 DKN 10  returned to  NevsehirDepo\n",
            "#RETURN:  34 ST 01  returned to  NevsehirDepo\n",
            "#RETURN:  34 DTA 1  returned to  AlasehirDepo\n",
            "#RETURN:  34 DTA 2  returned to  AlasehirDepo\n",
            "#RETURN:  34 DTA 6  returned to  AlasehirDepo\n",
            "#RETURN:  34 DTA 8  returned to  AlasehirDepo\n",
            "34 DTG 2 GebzeDepo -> PirimIstanbul(given:21) -> DogusEsenyurt(given:12) -> GebzeDepo -- 193.0km(₺542)\n",
            "34 DTG 3 GebzeDepo -> Gurpa2(given:17) -> Gurpa1(given:16) -> GebzeDepo -- 146.0km(₺410)\n",
            "34 DTA 1 AlasehirDepo -> MetroIzmir(given:26) -> DinoManisa(given:7) -> BilecikFabrika(given:0) -> AlasehirDepo(taken:33) -- 934.0km(₺2624)\n",
            "Converted to spot delivery!\n",
            "Contracted route detected\n",
            "34 ST 01 AlasehirDepo -> GebzeDepo_dem(given:33) -> AlasehirDepo -- 876.0km(₺2734)\n",
            "34 DTG 4 GebzeDepo -> KoseogluDuzce(given:11) -> NevsehirDepo_dem(given:17) -> NevsehirDepo(given:0) -> GebzeDepo(taken:33) -- 1342.0km(₺3771)\n",
            "34 DKG 13 GebzeDepo -> DogusEsenyurt(given:8) -> GurpaKesan(given:10) -> GebzeDepo -- 598.0km(₺1483)\n",
            "34 DTA 2 AlasehirDepo -> ANDAAntalya(given:0) -> NevsehirDepo(given:0) -> AlasehirDepo(taken:33) -- 1505.0km(₺4229)\n",
            "34 DTA 4 AlasehirDepo -> ANDAAntalya(given:24) -> MigrosAntalya(given:2) -> TurtemAntalya(given:6) -> AlasehirDepo -- 853.0km(₺2396)\n",
            "Converted to spot delivery!\n",
            "Contracted route detected\n",
            "34 ST 02 AlasehirDepo -> GebzeDepo_dem(given:33) -> AlasehirDepo -- 876.0km(₺2734)\n",
            "34 DTA 6 AlasehirDepo -> TespoEskisehir(given:0) -> BilecikFabrika(given:0) -> AlasehirDepo(taken:33) -- 720.0km(₺2023)\n",
            "34 DTA 7 AlasehirDepo -> TespoEskisehir(given:13) -> GebzeDepo_dem(given:20) -> AlasehirDepo -- 985.0km(₺2767)\n",
            "34 DTA 8 AlasehirDepo -> BilicanlarBayir(given:9) -> MigrosMugla(given:2) -> PirimBodrum(given:4) -> TespoBodrum(given:2) -> AlasehirDepo -- 644.0km(₺1809)\n",
            "Converted to spot delivery!\n",
            "Contracted route detected\n",
            "34 ST 01 NevsehirDepo -> GebzeDepo_dem(given:33) -> NevsehirDepo -- 1382.0km(₺3092)\n",
            "34 DTN 2 NevsehirDepo -> MigrosErzurum(given:0) -> NevsehirDepo -- 1426.0km(₺4007)\n",
            "34 DKN 10 NevsehirDepo -> SesSivas(given:10) -> ErtuTokat(given:8) -> NevsehirDepo -- 730.0km(₺1810)\n",
            "34 DKN 14 NevsehirDepo -> TanriverdiErzincan(given:11) -> PolatTunceli(given:6) -> NevsehirDepo -- 1248.0km(₺3095)\n",
            "34 ST 02 NevsehirDepo -> MersinAntrepo(given:0) -> NevsehirDepo(taken:33) -- 538.0km(₺1511)\n",
            "Shipments from  AlasehirDepo  no longer desirable today.\n",
            "Shipments from  NevsehirDepo  no longer desirable today.\n",
            "Shipments from  GebzeDepo  no longer desirable today.\n",
            "Shipments from  BilecikFabrika  no longer desirable today.\n",
            "Shipments from  SarkoyFabrika  no longer desirable today.\n",
            "Shipments from  ElazigFabrika  no longer desirable today.\n",
            "Shipments from  MersinAntrepo  no longer desirable today.\n",
            "\n",
            "### DAY  6  NOON ###\n",
            "#RETURN:  34 DTG 1  returned to  GebzeDepo\n",
            "#RETURN:  34 DTG 3  returned to  GebzeDepo\n",
            "#RETURN:  34 DTN 1  returned to  NevsehirDepo\n",
            "#RETURN:  34 DTN 3  returned to  NevsehirDepo\n",
            "#RETURN:  34 DTN 5  returned to  NevsehirDepo\n",
            "#RETURN:  34 DTN 9  returned to  NevsehirDepo\n",
            "#RETURN:  34 DKN 13  returned to  NevsehirDepo\n",
            "#RETURN:  34 ST 02  returned to  NevsehirDepo\n",
            "#RETURN:  34 DTA 3  returned to  AlasehirDepo\n",
            "#RETURN:  34 DTA 11  returned to  AlasehirDepo\n",
            "#RETURN:  34 DTA 12  returned to  AlasehirDepo\n",
            "#RETURN:  34 DKA 15  returned to  AlasehirDepo\n",
            "#RETURN:  34 DKA 17  returned to  AlasehirDepo\n",
            "#RETURN:  34 DKA 18  returned to  AlasehirDepo\n",
            "#RETURN:  34 DKA 21  returned to  AlasehirDepo\n",
            "Shipments from  AlasehirDepo  no longer desirable today.\n",
            "Shipments from  NevsehirDepo  no longer desirable today.\n",
            "Shipments from  GebzeDepo  no longer desirable today.\n",
            "Shipments from  BilecikFabrika  no longer desirable today.\n",
            "Shipments from  SarkoyFabrika  no longer desirable today.\n",
            "Shipments from  ElazigFabrika  no longer desirable today.\n",
            "Shipments from  MersinAntrepo  no longer desirable today.\n",
            "\n",
            "### DAY  7  MORNING ###\n",
            "#RETURN:  34 DTG 2  returned to  GebzeDepo\n",
            "#RETURN:  34 DTG 10  returned to  GebzeDepo\n",
            "#RETURN:  34 DTN 6  returned to  NevsehirDepo\n",
            "#RETURN:  34 DTN 7  returned to  NevsehirDepo\n",
            "#RETURN:  34 ST 01  returned to  NevsehirDepo\n",
            "#RETURN:  34 DTA 5  returned to  AlasehirDepo\n",
            "#RETURN:  34 DTA 13  returned to  AlasehirDepo\n",
            "#RETURN:  34 DTA 14  returned to  AlasehirDepo\n",
            "#RETURN:  34 DKA 16  returned to  AlasehirDepo\n",
            "#RETURN:  34 DKA 19  returned to  AlasehirDepo\n",
            "#RETURN:  34 ST 01  returned to  AlasehirDepo\n",
            "#RETURN:  34 ST 02  returned to  AlasehirDepo\n",
            "WEEKEND\n",
            "\n",
            "### DAY  7  NOON ###\n",
            "#RETURN:  34 DKG 13  returned to  GebzeDepo\n",
            "#RETURN:  34 DKN 12  returned to  NevsehirDepo\n",
            "#RETURN:  34 DKN 15  returned to  NevsehirDepo\n",
            "#RETURN:  34 DTA 9  returned to  AlasehirDepo\n",
            "WEEKEND\n",
            "\n",
            "### DAY  8  MORNING ###\n",
            "#RETURN:  34 DTN 4  returned to  NevsehirDepo\n",
            "#RETURN:  34 DTN 8  returned to  NevsehirDepo\n",
            "#RETURN:  34 DKN 10  returned to  NevsehirDepo\n",
            "#RETURN:  34 DKN 11  returned to  NevsehirDepo\n",
            "#RETURN:  34 DTA 6  returned to  AlasehirDepo\n",
            "#RETURN:  34 DTA 8  returned to  AlasehirDepo\n",
            "WEEKEND\n",
            "\n",
            "### DAY  8  NOON ###\n",
            "#RETURN:  34 DKN 14  returned to  NevsehirDepo\n",
            "#RETURN:  34 DTA 1  returned to  AlasehirDepo\n",
            "#RETURN:  34 DTA 4  returned to  AlasehirDepo\n",
            "#RETURN:  34 DTA 7  returned to  AlasehirDepo\n",
            "WEEKEND\n",
            "\n",
            "### DAY  9  MORNING ###\n",
            "#RETURN:  34 DTG 4  returned to  GebzeDepo\n",
            "#RETURN:  34 DTN 2  returned to  NevsehirDepo\n",
            "34 DTG 1 GebzeDepo -> MigrosKocaeli(given:33) -> BilecikFabrika(given:0) -> GebzeDepo(taken:33) -- 292.0km(₺820)\n",
            "34 DTG 2 GebzeDepo -> MigrosKocaeli(given:13) -> Ozyigit(given:20) -> AlasehirDepo(given:0) -> GebzeDepo(taken:33) -- 935.0km(₺2627)\n",
            "34 DTG 3 GebzeDepo -> MigrosEsenyurt(given:33) -> NevsehirDepo(given:0) -> GebzeDepo(taken:33) -- 1544.0km(₺4338)\n",
            "34 DTA 1 AlasehirDepo -> MetroIzmir(given:33) -> BilecikFabrika(given:0) -> AlasehirDepo(taken:33) -- 940.0km(₺2641)\n",
            "34 DTG 4 GebzeDepo -> PirimIstanbul(given:33) -> AlasehirDepo(given:0) -> GebzeDepo(taken:33) -- 1037.0km(₺2913)\n",
            "34 DTG 5 GebzeDepo -> GurpaAsya(given:32) -> NevsehirDepo_dem(given:1) -> NevsehirDepo(given:0) -> GebzeDepo(taken:33) -- 1431.0km(₺4021)\n",
            "34 DTG 6 GebzeDepo -> Gurpa2(given:33) -> AlasehirDepo(given:0) -> GebzeDepo(taken:33) -- 1012.0km(₺2843)\n",
            "34 DTG 7 GebzeDepo -> DogusEsenyurt(given:33) -> NevsehirDepo(given:0) -> GebzeDepo(taken:33) -- 1544.0km(₺4338)\n",
            "34 DTG 8 GebzeDepo -> Gurpa1(given:33) -> BilecikFabrika(given:0) -> GebzeDepo(taken:33) -- 430.0km(₺1208)\n",
            "34 DTN 1 NevsehirDepo -> OnurNevsehir(given:12) -> DunyaAnkara(given:21) -> GebzeDepo(given:0) -> NevsehirDepo(taken:33) -- 1380.0km(₺3877)\n",
            "34 DTA 3 AlasehirDepo -> MigrosIzmir(given:33) -> NevsehirDepo(given:0) -> AlasehirDepo(taken:33) -- 1564.0km(₺4394)\n",
            "34 DTG 9 GebzeDepo -> GulenerKocaeli(given:32) -> NevsehirDepo_dem(given:1) -> NevsehirDepo(given:0) -> GebzeDepo(taken:33) -- 1381.0km(₺3880)\n",
            "34 DTG 10 GebzeDepo -> CarrefourIstanbul(given:16) -> MigrosEsenyurt(given:17) -> SarkoyFabrika(given:0) -> GebzeDepo(taken:33) -- 593.0km(₺1666)\n",
            "34 DTA 4 AlasehirDepo -> GurpaIzmir(given:33) -> NevsehirDepo(given:0) -> AlasehirDepo(taken:33) -- 1535.0km(₺4313)\n",
            "34 DKN 10 NevsehirDepo -> MigrosAnkara(given:18) -> AlasehirDepo(given:0) -> NevsehirDepo(taken:18) -- 1419.0km(₺3519)\n",
            "34 DTA 5 AlasehirDepo -> CantaylarManisa(given:15) -> GurpaIzmir(given:17) -> TespoBornova(given:1) -> GebzeDepo(given:0) -> AlasehirDepo(taken:33) -- 983.0km(₺2762)\n",
            "34 DTN 2 NevsehirDepo -> MersinAntrepo(given:0) -> NevsehirDepo(taken:33) -- 538.0km(₺1511)\n",
            "34 DTG 11 GebzeDepo -> DogusAsya(given:19) -> Gurpa1(given:14) -> AlasehirDepo(given:0) -> GebzeDepo(taken:33) -- 1033.0km(₺2902)\n",
            "34 DTG 12 GebzeDepo -> PirimIstanbul(given:30) -> DogusEsenyurt(given:3) -> GebzeDepo -- 193.0km(₺542)\n",
            "34 DTA 6 AlasehirDepo -> MetroIzmir(given:33) -> AlasehirDepo -- 300.0km(₺843)\n",
            "34 DTA 7 AlasehirDepo -> PirimIzmir(given:33) -> AlasehirDepo -- 321.0km(₺902)\n",
            "34 DKG 13 GebzeDepo -> CarrefourKocaeli(given:17) -> GebzeDepo -- 115.0km(₺285)\n",
            "34 DKG 14 GebzeDepo -> TespoKartal(given:4) -> Cukuroglu(given:4) -> Gurpa2(given:10) -> GebzeDepo -- 150.0km(₺372)\n",
            "34 ST 01 GebzeDepo -> DogusEsenyurt(given:24) -> Gurpa2(given:8) -> Gurpa1(given:1) -- 123.0km(₺345)\n",
            "34 DTA 8 AlasehirDepo -> ANDAAntalya(given:33) -> NevsehirDepo(given:0) -> AlasehirDepo(taken:33) -- 1505.0km(₺4229)\n",
            "34 DTN 3 NevsehirDepo -> MersinAntrepo(given:0) -> NevsehirDepo(taken:33) -- 538.0km(₺1511)\n",
            "34 DTA 9 AlasehirDepo -> BizimyakiDenizli(given:17) -> TespoDenizli(given:5) -> MigrosMugla(given:11) -> AlasehirDepo -- 485.0km(₺1362)\n",
            "34 ST 02 GebzeDepo -> KoseogluSakarya(given:12) -> DunyaZonguldak(given:21) -- 358.0km(₺1005)\n",
            "34 DTA 10 AlasehirDepo -> CarrefourIzmir(given:12) -> MigrosIzmir(given:11) -> MetroIzmir(given:10) -> AlasehirDepo -- 339.0km(₺952)\n",
            "34 DKN 11 NevsehirDepo -> DunyaKayseri(given:12) -> DunyaNigde(given:6) -> AlasehirDepo(given:0) -> NevsehirDepo(taken:18) -- 1565.0km(₺3881)\n",
            "34 DTA 11 AlasehirDepo -> PirimAydin(given:32) -> AlasehirDepo -- 436.0km(₺1225)\n",
            "34 ST 01 BilecikFabrika -> AlasehirDepo_dem(given:33) -- 336.0km(₺944)\n",
            "34 DTN 4 NevsehirDepo -> GramAnkara(given:33) -> BilecikFabrika(given:0) -> NevsehirDepo(taken:33) -- 1173.0km(₺3296)\n",
            "34 DTN 5 NevsehirDepo -> AlfaAdana(given:30) -> CarrefourAdana(given:3) -> MersinAntrepo(given:0) -> NevsehirDepo(taken:33) -- 615.0km(₺1728)\n",
            "34 DTA 12 AlasehirDepo -> Murpa(given:15) -> DorukEskisehir(given:13) -> BilecikFabrika(given:0) -> AlasehirDepo(taken:33) -- 743.0km(₺2087)\n",
            "34 DKN 12 NevsehirDepo -> DunyaAksaray(given:9) -> AltanlarKonya(given:9) -> AlasehirDepo(given:0) -> NevsehirDepo(taken:18) -- 1329.0km(₺3295)\n",
            "34 DTN 6 NevsehirDepo -> MerpasIcel(given:30) -> MigrosAdana(given:3) -> NevsehirDepo -- 614.0km(₺1725)\n",
            "34 DTN 7 NevsehirDepo -> GebzeDepo_dem(given:33) -> GebzeDepo(given:0) -> NevsehirDepo(taken:33) -- 1382.0km(₺3883)\n",
            "34 ST 03 GebzeDepo -> Ozyigit(given:4) -> DogusCorlu(given:14) -> TrakyaErza(given:15) -- 240.0km(₺674)\n",
            "34 DTA 13 AlasehirDepo -> BilicanlarFethiye(given:22) -> BilicanlarMarmaris(given:11) -> AlasehirDepo -- 687.0km(₺1930)\n",
            "34 DKN 13 NevsehirDepo -> MigrosAnkara(given:18) -> NevsehirDepo -- 593.0km(₺1470)\n",
            "34 DTA 14 AlasehirDepo -> ANDAAntalya(given:30) -> MigrosAntalya(given:3) -> AlasehirDepo -- 719.0km(₺2020)\n",
            "34 DTN 8 NevsehirDepo -> MigrosErzurum(given:24) -> TanriverdiErzurum(given:9) -> NevsehirDepo -- 1426.0km(₺4007)\n",
            "34 DKA 15 AlasehirDepo -> InciAntalya(given:18) -> AlasehirDepo -- 790.0km(₺1959)\n",
            "34 DKN 14 NevsehirDepo -> CarrefourAnkara(given:8) -> DunyaAnkara(given:10) -> NevsehirDepo -- 670.0km(₺1661)\n",
            "No vehicle found in  GebzeDepo\n",
            "34 DKA 16 AlasehirDepo -> PirimIzmir(given:13) -> MetroIzmir(given:2) -> TespoBornova(given:2) -> DinoManisa(given:1) -> AlasehirDepo -- 348.0km(₺863)\n",
            "34 DTN 9 NevsehirDepo -> MersasCeyhan(given:16) -> MigrosAdana(given:12) -> CarrefourAdana(given:5) -> NevsehirDepo -- 613.0km(₺1722)\n",
            "34 DKN 15 NevsehirDepo -> Cagan(given:18) -> NevsehirDepo -- 697.0km(₺1728)\n",
            "34 ST 01 NevsehirDepo -> YuksellerKirsehir(given:6) -> EkerGaziantep(given:22) -> Ozsah(given:5) -- 804.0km(₺2259)\n",
            "34 DKA 17 AlasehirDepo -> GebzeDepo_dem(given:18) -> GebzeDepo(given:0) -> AlasehirDepo(taken:18) -- 876.0km(₺2172)\n",
            "34 DKA 18 AlasehirDepo -> PirimBodrum(given:16) -> AlasehirDepo -- 584.0km(₺1448)\n",
            "34 ST 02 NevsehirDepo -> AltanlarOrdu(given:23) -> AltanlarTrabzon(given:10) -- 704.0km(₺1978)\n",
            "Contracted route detected\n",
            "34 ST 03 NevsehirDepo -> GebzeDepo_dem(given:33) -- 691.0km(₺3092)\n",
            "34 ST 04 NevsehirDepo -> PolatElazig(given:18) -> Ozsah(given:11) -- 623.0km(₺1750)\n",
            "34 DKA 19 AlasehirDepo -> DogusBursa(given:17) -> RitBursa(given:1) -> AlasehirDepo -- 720.0km(₺1785)\n",
            "34 ST 05 NevsehirDepo -> ErtuSamsun(given:16) -> ErtuMerzifon(given:7) -> KokdemirlerSinop(given:8) -- 621.0km(₺1745)\n",
            "34 DKA 20 AlasehirDepo -> GebzeDepo_dem(given:18) -> AlasehirDepo -- 876.0km(₺2172)\n",
            "No vehicle found in  NevsehirDepo\n",
            "34 ST 02 BilecikFabrika -> NevsehirDepo_dem(given:25) -- 553.0km(₺1553)\n",
            "34 ST 01 MersinAntrepo -> AlasehirDepo_dem(given:33) -- 797.0km(₺2239)\n",
            "34 DKA 21 AlasehirDepo -> BayraktarEdremit(given:10) -> BayraktarCanakkale(given:8) -> AlasehirDepo -- 672.0km(₺1666)\n",
            "34 ST 01 AlasehirDepo -> MigrosBursa(given:13) -> RitBursa(given:15) -> TespoAltinova(given:4) -- 447.0km(₺1256)\n",
            "34 ST 02 AlasehirDepo -> CantaylarIsparta(given:9) -> MigrosAntalya(given:11) -> InciAntalya(given:12) -> TespoSide(given:1) -- 441.0km(₺1239)\n",
            "34 ST 03 BilecikFabrika -> GebzeDepo_dem(given:5) -- 146.0km(₺410)\n",
            "34 ST 03 AlasehirDepo -> NevsehirDepo_dem(given:33) -- 651.0km(₺1829)\n",
            "34 ST 04 AlasehirDepo -> BayraktarBalikesir(given:5) -- 193.0km(₺542)\n",
            "Shipments from  AlasehirDepo  no longer desirable today.\n",
            "Shipments from  SarkoyFabrika  no longer desirable today.\n",
            "Shipments from  MersinAntrepo  no longer desirable today.\n",
            "Shipments from  ElazigFabrika  no longer desirable today.\n",
            "\n",
            "### DAY  9  NOON ###\n",
            "#RETURN:  34 DKG 13  returned to  GebzeDepo\n",
            "#RETURN:  34 ST 01  returned to  GebzeDepo\n",
            "#RETURN:  34 ST 02  returned to  GebzeDepo\n",
            "#RETURN:  34 ST 03  returned to  GebzeDepo\n"
          ],
          "name": "stdout"
        },
        {
          "output_type": "error",
          "ename": "AttributeError",
          "evalue": "ignored",
          "traceback": [
            "\u001b[0;31m---------------------------------------------------------------------------\u001b[0m",
            "\u001b[0;31mAttributeError\u001b[0m                            Traceback (most recent call last)",
            "\u001b[0;32m<ipython-input-5-245ace653a15>\u001b[0m in \u001b[0;36m<module>\u001b[0;34m()\u001b[0m\n\u001b[1;32m     33\u001b[0m             \u001b[0;32mfor\u001b[0m \u001b[0mfleetArray\u001b[0m \u001b[0;32min\u001b[0m \u001b[0;34m[\u001b[0m\u001b[0mfleets\u001b[0m\u001b[0;34m,\u001b[0m \u001b[0mspot_fleets\u001b[0m\u001b[0;34m]\u001b[0m\u001b[0;34m:\u001b[0m                                            \u001b[0;31m# for dedicated and spot fleets\u001b[0m\u001b[0;34m\u001b[0m\u001b[0;34m\u001b[0m\u001b[0m\n\u001b[1;32m     34\u001b[0m                 \u001b[0;32mfor\u001b[0m \u001b[0mv\u001b[0m \u001b[0;32min\u001b[0m \u001b[0mfleetArray\u001b[0m\u001b[0;34m[\u001b[0m\u001b[0mi\u001b[0m\u001b[0;34m]\u001b[0m\u001b[0;34m.\u001b[0m\u001b[0mv\u001b[0m\u001b[0;34m:\u001b[0m                                                       \u001b[0;31m# for every vehicle...\u001b[0m\u001b[0;34m\u001b[0m\u001b[0;34m\u001b[0m\u001b[0m\n\u001b[0;32m---> 35\u001b[0;31m                     \u001b[0;32mif\u001b[0m \u001b[0;32mnot\u001b[0m \u001b[0mv\u001b[0m\u001b[0;34m.\u001b[0m\u001b[0mreturned\u001b[0m \u001b[0;32mand\u001b[0m \u001b[0;34m(\u001b[0m\u001b[0mv\u001b[0m\u001b[0;34m.\u001b[0m\u001b[0mreturn_time\u001b[0m \u001b[0;34m<\u001b[0m \u001b[0mtime\u001b[0m\u001b[0;34m)\u001b[0m\u001b[0;34m:\u001b[0m                               \u001b[0;31m# if its returned status is false and return time has come already...\u001b[0m\u001b[0;34m\u001b[0m\u001b[0;34m\u001b[0m\u001b[0m\n\u001b[0m\u001b[1;32m     36\u001b[0m                         \u001b[0mv\u001b[0m\u001b[0;34m.\u001b[0m\u001b[0mreturned\u001b[0m \u001b[0;34m=\u001b[0m \u001b[0;32mTrue\u001b[0m\u001b[0;34m;\u001b[0m \u001b[0mfleetArray\u001b[0m\u001b[0;34m[\u001b[0m\u001b[0mi\u001b[0m\u001b[0;34m]\u001b[0m\u001b[0;34m.\u001b[0m\u001b[0mv_return\u001b[0m\u001b[0;34m(\u001b[0m\u001b[0mv\u001b[0m\u001b[0;34m)\u001b[0m\u001b[0;34m;\u001b[0m \u001b[0mv\u001b[0m\u001b[0;34m.\u001b[0m\u001b[0mrem_cap\u001b[0m \u001b[0;34m=\u001b[0m \u001b[0mv\u001b[0m\u001b[0;34m.\u001b[0m\u001b[0mcap\u001b[0m         \u001b[0;31m# update it as returned and update fleet with the vehicle (see v_return func. above)\u001b[0m\u001b[0;34m\u001b[0m\u001b[0;34m\u001b[0m\u001b[0m\n\u001b[1;32m     37\u001b[0m                         \u001b[0;32mif\u001b[0m \u001b[0mplan_for\u001b[0m \u001b[0;34m!=\u001b[0m \u001b[0;34m\"spot_only\"\u001b[0m\u001b[0;34m:\u001b[0m\u001b[0;34m\u001b[0m\u001b[0;34m\u001b[0m\u001b[0m\n",
            "\u001b[0;31mAttributeError\u001b[0m: 'vehicle' object has no attribute 'return_time'"
          ]
        }
      ]
    },
    {
      "cell_type": "code",
      "metadata": {
        "colab": {
          "base_uri": "https://localhost:8080/"
        },
        "id": "vRg5Vz_yaTZi",
        "outputId": "17f7916d-0ead-451d-b1f5-3d656cccf7e8"
      },
      "source": [
        "locs[64].tr_o"
      ],
      "execution_count": null,
      "outputs": [
        {
          "output_type": "execute_result",
          "data": {
            "text/plain": [
              "1"
            ]
          },
          "metadata": {
            "tags": []
          },
          "execution_count": 15
        }
      ]
    },
    {
      "cell_type": "code",
      "metadata": {
        "id": "Quc24QLmxbWQ",
        "colab": {
          "base_uri": "https://localhost:8080/"
        },
        "outputId": "c5f517cf-5c6e-4906-f629-4029ab0ffab8"
      },
      "source": [
        "defcount,rot_names,rot_counts,rotn_partial,rotc_partial,s=route_counter(tot_route,customers)\n",
        "print(len(s))\n",
        "print(len(unique(s)))\n",
        "print(counter_to_dataFrame(rotn_partial,rotc_partial).shape)\n",
        "df_tot=counter_to_dataFrame(rot_names,rot_counts)"
      ],
      "execution_count": null,
      "outputs": [
        {
          "output_type": "stream",
          "text": [
            "2047\n",
            "146\n",
            "(146, 2)\n"
          ],
          "name": "stdout"
        }
      ]
    },
    {
      "cell_type": "code",
      "metadata": {
        "colab": {
          "base_uri": "https://localhost:8080/",
          "height": 35
        },
        "id": "eJ-rTReGgq4i",
        "outputId": "85ed410f-3a48-432d-d825-c2d961219d44"
      },
      "source": [
        "import os\n",
        "os.getcwd()"
      ],
      "execution_count": null,
      "outputs": [
        {
          "output_type": "execute_result",
          "data": {
            "application/vnd.google.colaboratory.intrinsic+json": {
              "type": "string"
            },
            "text/plain": [
              "'/content'"
            ]
          },
          "metadata": {
            "tags": []
          },
          "execution_count": 55
        }
      ]
    },
    {
      "cell_type": "code",
      "metadata": {
        "id": "qpeBIqrU5ekC"
      },
      "source": [
        "(r'C:\\Users\\ASUS_PC\\Desktop\\Mey\\rota_sayıları.xlsx')\n",
        "df_tot.to_excel(r'C:\\Users\\ASUS_PC\\Desktop\\Mey\\tot_rota_sayıları2.xlsx',index=False)"
      ],
      "execution_count": null,
      "outputs": []
    },
    {
      "cell_type": "code",
      "metadata": {
        "colab": {
          "base_uri": "https://localhost:8080/",
          "height": 34
        },
        "id": "zk-KXRMa_IVx",
        "outputId": "ec832bd5-628f-4238-8299-64ec7b8d27c8"
      },
      "source": [
        "v.plate"
      ],
      "execution_count": null,
      "outputs": [
        {
          "output_type": "execute_result",
          "data": {
            "application/vnd.google.colaboratory.intrinsic+json": {
              "type": "string"
            },
            "text/plain": [
              "'34 ST 01'"
            ]
          },
          "metadata": {
            "tags": []
          },
          "execution_count": 21
        }
      ]
    },
    {
      "cell_type": "markdown",
      "metadata": {
        "id": "vvG_wOqIWAiC"
      },
      "source": [
        "*******\n",
        "STATISTICS\n",
        "**********"
      ]
    },
    {
      "cell_type": "code",
      "metadata": {
        "colab": {
          "base_uri": "https://localhost:8080/"
        },
        "id": "8X6Si115WE_5",
        "outputId": "988e8aaa-d9c4-4a4d-e050-bbe98c00e015"
      },
      "source": [
        "services=[]\n",
        "for cust in customers:\n",
        "    if not cust.passive and cust.tip == \"zm\":\n",
        "        services.append(np.max(cust.serviceLevel))\n",
        "print(plan_for, \"delivery time is \", \"%.3f\" %np.mean(services), \"days\")"
      ],
      "execution_count": null,
      "outputs": [
        {
          "output_type": "stream",
          "text": [
            "hybrid delivery time is  2.667 days\n"
          ],
          "name": "stdout"
        }
      ]
    },
    {
      "cell_type": "code",
      "metadata": {
        "colab": {
          "base_uri": "https://localhost:8080/"
        },
        "id": "ZaxlVKp1Ww-L",
        "outputId": "3bf2c67b-a63c-4278-e1b4-8ba424e561ec"
      },
      "source": [
        "totalNumOfVehicles=0\n",
        "for f in fleets:\n",
        "    totalNumOfVehicles+=len(f.v)\n",
        "for f in spot_fleets:\n",
        "    totalNumOfVehicles+=len(f.v)\n",
        "print(totalNumOfVehicles, \"vehicles are used in\", plan_for)"
      ],
      "execution_count": null,
      "outputs": [
        {
          "output_type": "stream",
          "text": [
            "153  vehicles are used in  ded_only\n"
          ],
          "name": "stdout"
        }
      ]
    },
    {
      "cell_type": "code",
      "metadata": {
        "id": "OLkTgYy9Zmfq",
        "colab": {
          "base_uri": "https://localhost:8080/",
          "height": 324
        },
        "outputId": "96eeebcc-8088-499c-8b10-6fcf320b3aa6"
      },
      "source": [
        "fig, ax = plt.subplots(figsize=(19,6))\n",
        "for i in range(exit_points):\n",
        "    plt.plot(vehicle_avail[i])\n",
        "    if plan_for == \"ded_only\":\n",
        "        plt.legend([\"Geb\", \"Nev\", \"Ala\"], loc='upper right')\n",
        "    else:\n",
        "        plt.legend([\"Geb\", \"Nev\", \"Ala\",\"Bil\", \"Sar\", \"Ela\", \"Mer\"] , loc='upper right')\n",
        "plt.show"
      ],
      "execution_count": null,
      "outputs": [
        {
          "output_type": "execute_result",
          "data": {
            "text/plain": [
              "<function matplotlib.pyplot.show>"
            ]
          },
          "metadata": {
            "tags": []
          },
          "execution_count": 25
        },
        {
          "output_type": "display_data",
          "data": {
            "image/png": "[encoded data removed]",
            "text/plain": [
              "<Figure size 1368x432 with 1 Axes>"
            ]
          },
          "metadata": {
            "tags": [],
            "needs_background": "light"
          }
        }
      ]
    },
    {
      "cell_type": "markdown",
      "metadata": {
        "id": "NJPNNzPUb2Dd"
      },
      "source": [
        "****\n",
        "GARBAGE BELOW\n",
        "*****"
      ]
    },
    {
      "cell_type": "code",
      "metadata": {
        "colab": {
          "base_uri": "https://localhost:8080/"
        },
        "id": "0-LoDfGiQwTD",
        "outputId": "36e2f1dc-7330-4df6-df08-d081114174d2"
      },
      "source": [
        "ch=15;\n",
        "locs=[];\n",
        "for locat in customers:\n",
        "  locs.append(locat)\n",
        "\n",
        "locs[ch].tr_o"
      ],
      "execution_count": null,
      "outputs": [
        {
          "output_type": "execute_result",
          "data": {
            "text/plain": [
              "0"
            ]
          },
          "metadata": {
            "tags": []
          },
          "execution_count": 34
        }
      ]
    },
    {
      "cell_type": "code",
      "metadata": {
        "colab": {
          "base_uri": "https://localhost:8080/"
        },
        "id": "YdrdNtvpdocC",
        "outputId": "d6f03459-1111-482e-db8d-6a82c5db657d"
      },
      "source": [
        "ll=[0,1,0,1,0,0,0,0,0,0,1]\n",
        "if not sum(ll):\n",
        "  print('a')\n",
        "else:\n",
        "  print('b')"
      ],
      "execution_count": null,
      "outputs": [
        {
          "output_type": "stream",
          "text": [
            "b\n"
          ],
          "name": "stdout"
        }
      ]
    },
    {
      "cell_type": "code",
      "metadata": {
        "colab": {
          "base_uri": "https://localhost:8080/"
        },
        "id": "K7ZWa0uoUrgN",
        "outputId": "1cd559a1-f908-45b2-e9e7-4978648746aa"
      },
      "source": [
        "k=[1,1,1,1,1,2,2,2,2,3,3,4,5,6,7,9,10,5,8,9,7,4,6,5]\n",
        "m=unique(k)\n",
        "for i in range(len(m)):\n",
        "  c=k.count(m[i])\n",
        "  print(\"eleman: {0} - count: {1}\".format(m[i],c))"
      ],
      "execution_count": null,
      "outputs": [
        {
          "output_type": "stream",
          "text": [
            "eleman: 1 - count: 5\n",
            "eleman: 2 - count: 4\n",
            "eleman: 3 - count: 2\n",
            "eleman: 4 - count: 2\n",
            "eleman: 5 - count: 3\n",
            "eleman: 6 - count: 2\n",
            "eleman: 7 - count: 2\n",
            "eleman: 9 - count: 2\n",
            "eleman: 10 - count: 1\n",
            "eleman: 8 - count: 1\n"
          ],
          "name": "stdout"
        }
      ]
    },
    {
      "cell_type": "code",
      "metadata": {
        "id": "jN4BbECj8w6a"
      },
      "source": [
        "            for v in spot_fleets[i].v:                                                  #similarly\n",
        "                if not v.returned and (v.return_time < time or plan_for ==\"spot_only\"): \n",
        "                    v.returned = True; spot_fleets[i].v_return(v); v.rem_cap = v.cap   \n",
        "                    if plan_for != \"spot_only\":\n",
        "                        print(\"#RETURN: \",v.plate, \" returned to \", v.base.name)        #print the return"
      ],
      "execution_count": null,
      "outputs": []
    },
    {
      "cell_type": "code",
      "metadata": {
        "colab": {
          "base_uri": "https://localhost:8080/"
        },
        "id": "93zQf7rGTP8H",
        "outputId": "744b391f-d306-48ec-8ab5-625caca17cd7"
      },
      "source": [
        "for k in [168]:    \n",
        "    print(customers[k].serviceLevel)"
      ],
      "execution_count": null,
      "outputs": [
        {
          "output_type": "stream",
          "text": [
            "[0, 0, 0, 0, 0, 0, 1, 2, 0, 0, 0, 0, 0, 1, 2, 0, 0, 0, 0, 0, 1, 2, 0, 0, 0, 0, 0, 1, 2, 0, 1]\n"
          ],
          "name": "stdout"
        }
      ]
    },
    {
      "cell_type": "code",
      "metadata": {
        "colab": {
          "base_uri": "https://localhost:8080/"
        },
        "id": "KyPG9XRGZ1LW",
        "outputId": "eba4a7cd-62fd-4d3b-87a3-a586e50c59e9"
      },
      "source": [
        "services=[]\n",
        "for cust in customers:\n",
        "    if not cust.passive:\n",
        "        services.append(np.max(cust.days_since_ship))\n",
        "\n",
        "print(plan_for, \"%.3f\" %np.mean(services))"
      ],
      "execution_count": null,
      "outputs": [
        {
          "output_type": "stream",
          "text": [
            "spot_only 0.311\n"
          ],
          "name": "stdout"
        }
      ]
    },
    {
      "cell_type": "code",
      "metadata": {
        "id": "4MIifSEsTfti"
      },
      "source": [
        "for time in np.linspace(0,maxdays,int(1 + maxdays / time_increment)):\n",
        "    if time%1 < .5:\n",
        "        if (int(time)+1)%7 != 0 and int(time)%7 !=0:\n",
        "            print(time)\n"
      ],
      "execution_count": null,
      "outputs": []
    },
    {
      "cell_type": "code",
      "metadata": {
        "id": "4sGVaTRtQkDa"
      },
      "source": [
        "target = [23,8,19,98,20,89,64]\n",
        "\n",
        "means= [50 for q in range(len(target))]\n",
        "stds= [10 for q in range(len(target))]\n",
        "\n"
      ],
      "execution_count": null,
      "outputs": []
    },
    {
      "cell_type": "code",
      "metadata": {
        "colab": {
          "base_uri": "https://localhost:8080/"
        },
        "id": "h3KMEjorzo8N",
        "outputId": "fd60198d-21b9-4786-b98b-85e883403f6c"
      },
      "source": [
        "np.random.normal(means,stds,len(target))"
      ],
      "execution_count": null,
      "outputs": [
        {
          "output_type": "execute_result",
          "data": {
            "text/plain": [
              "array([42.63407262, 56.88029673, 58.86586004, 66.46793068, 39.39630678,\n",
              "       44.72604203, 64.82454269])"
            ]
          },
          "metadata": {
            "tags": []
          },
          "execution_count": 9
        }
      ]
    },
    {
      "cell_type": "code",
      "metadata": {
        "colab": {
          "base_uri": "https://localhost:8080/"
        },
        "id": "EgG43WAPzrcI",
        "outputId": "ae461f92-67e0-42ca-9011-456496d87d03"
      },
      "source": [
        "sisters = []\n",
        "sisters = [np.random.normal(means,stds,len(target)) for q in range(len(target))]\n",
        "sisters\n"
      ],
      "execution_count": null,
      "outputs": [
        {
          "output_type": "execute_result",
          "data": {
            "text/plain": [
              "[array([56.21072716, 67.41666964, 57.27099298, 45.27384631, 73.98224914,\n",
              "        58.4477492 , 58.53885792]),\n",
              " array([41.03036857, 51.48559647, 46.95885983, 65.30011672, 52.13476206,\n",
              "        39.8964511 , 34.40274848]),\n",
              " array([47.23956196, 26.25946995, 61.09108315, 42.13975766, 55.59460507,\n",
              "        35.45750433, 54.79075753]),\n",
              " array([45.73069683, 51.08218952, 40.84075809, 46.49756044, 46.49869159,\n",
              "        64.22020367, 50.37624611]),\n",
              " array([53.25495028, 41.07165882, 44.20119964, 66.31691892, 48.62049828,\n",
              "        54.41274047, 37.93336007]),\n",
              " array([25.47288534, 54.34424116, 34.73235165, 38.46046263, 46.0254074 ,\n",
              "        36.18074816, 42.92310605]),\n",
              " array([45.60598948, 64.95623911, 60.345225  , 43.13731795, 54.18831111,\n",
              "        36.92326978, 45.61463848])]"
            ]
          },
          "metadata": {
            "tags": []
          },
          "execution_count": 24
        }
      ]
    },
    {
      "cell_type": "code",
      "metadata": {
        "colab": {
          "base_uri": "https://localhost:8080/"
        },
        "id": "f0CFqHBM4Rvj",
        "outputId": "45f7928f-f39a-4624-c23a-b2799759facf"
      },
      "source": [
        "target = [23,8,19,98,20,89,64]\n",
        "\n",
        "means= [50 for q in range(len(target))]\n",
        "stds= [1 for q in range(len(target))]\n",
        "progress=[]\n",
        "gen_size=14\n",
        "best_fitness=999\n",
        "while best_fitness > 5:\n",
        "    sisters = []\n",
        "    sisters = [np.random.normal(means,stds,len(target)) for q in range(gen_size)]\n",
        "    fitness = [np.linalg.norm(np.array(sister)- np.array(target)) for sister in sisters]\n",
        "    champion = sisters[np.argmin(fitness)]\n",
        "    best_fitness = np.min(fitness)\n",
        "    progress.append(best_fitness)\n",
        "    means = champion\n",
        "progress[-1]"
      ],
      "execution_count": null,
      "outputs": [
        {
          "output_type": "execute_result",
          "data": {
            "text/plain": [
              "4.438360197981411"
            ]
          },
          "metadata": {
            "tags": []
          },
          "execution_count": 5
        }
      ]
    },
    {
      "cell_type": "code",
      "metadata": {
        "id": "wSxgIXEJ6NkD"
      },
      "source": [
        "fig, ax = plt.subplots(figsize=(19,6))\n",
        "plt.plot(progress)"
      ],
      "execution_count": null,
      "outputs": []
    },
    {
      "cell_type": "code",
      "metadata": {
        "colab": {
          "base_uri": "https://localhost:8080/"
        },
        "id": "qHEF_DXZ1h6P",
        "outputId": "b50d906b-2adb-40bd-f619-0969e6c1ecb6"
      },
      "source": [
        "q=np.array((1,2))\n",
        "w=np.array((4,6))\n",
        "np.linalg.norm(q-w)"
      ],
      "execution_count": null,
      "outputs": [
        {
          "output_type": "execute_result",
          "data": {
            "text/plain": [
              "5.0"
            ]
          },
          "metadata": {
            "tags": []
          },
          "execution_count": 21
        }
      ]
    },
    {
      "cell_type": "code",
      "metadata": {
        "colab": {
          "base_uri": "https://localhost:8080/",
          "height": 34
        },
        "id": "eoDCMupBU0Ku",
        "outputId": "1ebf4abe-9674-4652-e0fc-265a5a30bcfd"
      },
      "source": [
        "val_names[0][0]"
      ],
      "execution_count": null,
      "outputs": [
        {
          "output_type": "execute_result",
          "data": {
            "application/vnd.google.colaboratory.intrinsic+json": {
              "type": "string"
            },
            "text/plain": [
              "'0'"
            ]
          },
          "metadata": {
            "tags": []
          },
          "execution_count": 72
        }
      ]
    },
    {
      "cell_type": "code",
      "metadata": {
        "colab": {
          "base_uri": "https://localhost:8080/"
        },
        "id": "39bwcH-X2edf",
        "outputId": "d8714d79-253f-4b79-e868-44c716d38676"
      },
      "source": [
        "target = [30,40,50,50,60,70]\n",
        "val_names=[]\n",
        "for i in range(len(target)):\n",
        "    val_names.append([str(i)])\n",
        "\n",
        "def objective(trial):\n",
        "    sister=[]\n",
        "    for i in range(len(target)):\n",
        "        sister.append(trial.suggest_int(val_names[i][0], 0, 100))\n",
        "    return np.linalg.norm(np.array(sister)- np.array(target))\n",
        "\n",
        "sampler = optuna.samplers.CmaEsSampler()\n",
        "study = optuna.create_study(sampler=sampler)\n",
        "study.optimize(objective, n_trials=60)\n"
      ],
      "execution_count": null,
      "outputs": [
        {
          "output_type": "stream",
          "text": [
            "\u001b[32m[I 2021-03-12 22:34:16,047]\u001b[0m A new study created in memory with name: no-name-601664af-3ebc-44fa-a660-ebc049dd2b12\u001b[0m\n",
            "\u001b[32m[I 2021-03-12 22:34:16,052]\u001b[0m Trial 0 finished with value: 77.22693830523129 and parameters: {'0': 1, '1': 88, '2': 66, '3': 99, '4': 69, '5': 79}. Best is trial 0 with value: 77.22693830523129.\u001b[0m\n",
            "\u001b[32m[I 2021-03-12 22:34:16,057]\u001b[0m Trial 1 finished with value: 55.758407437802596 and parameters: {'0': 58, '1': 40, '2': 12, '3': 34, '4': 67, '5': 46}. Best is trial 1 with value: 55.758407437802596.\u001b[0m\n",
            "\u001b[32m[I 2021-03-12 22:34:16,063]\u001b[0m Trial 2 finished with value: 52.01922721455981 and parameters: {'0': 68, '1': 63, '2': 54, '3': 60, '4': 41, '5': 54}. Best is trial 2 with value: 52.01922721455981.\u001b[0m\n",
            "\u001b[32m[I 2021-03-12 22:34:16,067]\u001b[0m Trial 3 finished with value: 46.67976006793523 and parameters: {'0': 62, '1': 59, '2': 59, '3': 30, '4': 73, '5': 58}. Best is trial 3 with value: 46.67976006793523.\u001b[0m\n",
            "\u001b[32m[I 2021-03-12 22:34:16,074]\u001b[0m Trial 4 finished with value: 44.01136216933077 and parameters: {'0': 42, '1': 35, '2': 62, '3': 48, '4': 42, '5': 34}. Best is trial 4 with value: 44.01136216933077.\u001b[0m\n",
            "\u001b[32m[I 2021-03-12 22:34:16,081]\u001b[0m Trial 5 finished with value: 47.83304297240559 and parameters: {'0': 69, '1': 37, '2': 61, '3': 56, '4': 65, '5': 46}. Best is trial 4 with value: 44.01136216933077.\u001b[0m\n",
            "\u001b[32m[I 2021-03-12 22:34:16,088]\u001b[0m Trial 6 finished with value: 61.09828148156051 and parameters: {'0': 60, '1': 77, '2': 48, '3': 40, '4': 36, '5': 42}. Best is trial 4 with value: 44.01136216933077.\u001b[0m\n",
            "\u001b[32m[I 2021-03-12 22:34:16,095]\u001b[0m Trial 7 finished with value: 54.31390245600108 and parameters: {'0': 50, '1': 71, '2': 48, '3': 65, '4': 68, '5': 34}. Best is trial 4 with value: 44.01136216933077.\u001b[0m\n",
            "\u001b[32m[I 2021-03-12 22:34:16,106]\u001b[0m Trial 8 finished with value: 69.01449123191448 and parameters: {'0': 79, '1': 56, '2': 14, '3': 31, '4': 53, '5': 50}. Best is trial 4 with value: 44.01136216933077.\u001b[0m\n",
            "\u001b[32m[I 2021-03-12 22:34:16,111]\u001b[0m Trial 9 finished with value: 35.11409973215888 and parameters: {'0': 24, '1': 58, '2': 40, '3': 57, '4': 42, '5': 50}. Best is trial 9 with value: 35.11409973215888.\u001b[0m\n",
            "\u001b[32m[I 2021-03-12 22:34:16,119]\u001b[0m Trial 10 finished with value: 70.6257743320383 and parameters: {'0': 13, '1': 59, '2': 43, '3': 75, '4': 52, '5': 10}. Best is trial 9 with value: 35.11409973215888.\u001b[0m\n",
            "\u001b[32m[I 2021-03-12 22:34:16,126]\u001b[0m Trial 11 finished with value: 38.691084244306204 and parameters: {'0': 36, '1': 69, '2': 37, '3': 59, '4': 69, '5': 53}. Best is trial 9 with value: 35.11409973215888.\u001b[0m\n",
            "\u001b[32m[I 2021-03-12 22:34:16,132]\u001b[0m Trial 12 finished with value: 50.1398045468867 and parameters: {'0': 33, '1': 68, '2': 30, '3': 56, '4': 91, '5': 52}. Best is trial 9 with value: 35.11409973215888.\u001b[0m\n",
            "\u001b[32m[I 2021-03-12 22:34:16,140]\u001b[0m Trial 13 finished with value: 37.589892258425 and parameters: {'0': 42, '1': 40, '2': 75, '3': 62, '4': 64, '5': 48}. Best is trial 9 with value: 35.11409973215888.\u001b[0m\n",
            "\u001b[32m[I 2021-03-12 22:34:16,146]\u001b[0m Trial 14 finished with value: 47.80167361086848 and parameters: {'0': 46, '1': 56, '2': 68, '3': 26, '4': 48, '5': 43}. Best is trial 9 with value: 35.11409973215888.\u001b[0m\n",
            "\u001b[32m[I 2021-03-12 22:34:16,152]\u001b[0m Trial 15 finished with value: 48.2078831727758 and parameters: {'0': 50, '1': 72, '2': 63, '3': 49, '4': 43, '5': 49}. Best is trial 9 with value: 35.11409973215888.\u001b[0m\n",
            "\u001b[32m[I 2021-03-12 22:34:16,159]\u001b[0m Trial 16 finished with value: 35.32704346531139 and parameters: {'0': 33, '1': 68, '2': 41, '3': 45, '4': 55, '5': 52}. Best is trial 9 with value: 35.11409973215888.\u001b[0m\n",
            "\u001b[32m[I 2021-03-12 22:34:16,167]\u001b[0m Trial 17 finished with value: 31.811947441173732 and parameters: {'0': 31, '1': 41, '2': 56, '3': 80, '4': 55, '5': 63}. Best is trial 17 with value: 31.811947441173732.\u001b[0m\n",
            "\u001b[32m[I 2021-03-12 22:34:16,174]\u001b[0m Trial 18 finished with value: 28.30194339616981 and parameters: {'0': 27, '1': 32, '2': 52, '3': 66, '4': 42, '5': 58}. Best is trial 18 with value: 28.30194339616981.\u001b[0m\n",
            "\u001b[32m[I 2021-03-12 22:34:16,184]\u001b[0m Trial 19 finished with value: 54.46099521676041 and parameters: {'0': 14, '1': 75, '2': 42, '3': 66, '4': 31, '5': 52}. Best is trial 18 with value: 28.30194339616981.\u001b[0m\n",
            "\u001b[32m[I 2021-03-12 22:34:16,195]\u001b[0m Trial 20 finished with value: 43.98863489584554 and parameters: {'0': 35, '1': 57, '2': 62, '3': 60, '4': 24, '5': 61}. Best is trial 18 with value: 28.30194339616981.\u001b[0m\n",
            "\u001b[32m[I 2021-03-12 22:34:16,205]\u001b[0m Trial 21 finished with value: 60.991802727907626 and parameters: {'0': 47, '1': 43, '2': 21, '3': 100, '4': 69, '5': 70}. Best is trial 18 with value: 28.30194339616981.\u001b[0m\n",
            "\u001b[32m[I 2021-03-12 22:34:16,213]\u001b[0m Trial 22 finished with value: 36.42801120017397 and parameters: {'0': 36, '1': 39, '2': 65, '3': 55, '4': 56, '5': 38}. Best is trial 18 with value: 28.30194339616981.\u001b[0m\n",
            "\u001b[32m[I 2021-03-12 22:34:16,220]\u001b[0m Trial 23 finished with value: 35.73513677041127 and parameters: {'0': 12, '1': 55, '2': 44, '3': 44, '4': 40, '5': 54}. Best is trial 18 with value: 28.30194339616981.\u001b[0m\n",
            "\u001b[32m[I 2021-03-12 22:34:16,229]\u001b[0m Trial 24 finished with value: 37.3496987939662 and parameters: {'0': 25, '1': 22, '2': 59, '3': 75, '4': 64, '5': 52}. Best is trial 18 with value: 28.30194339616981.\u001b[0m\n",
            "\u001b[32m[I 2021-03-12 22:34:16,235]\u001b[0m Trial 25 finished with value: 28.0 and parameters: {'0': 39, '1': 33, '2': 42, '3': 65, '4': 79, '5': 72}. Best is trial 25 with value: 28.0.\u001b[0m\n",
            "\u001b[32m[I 2021-03-12 22:34:16,244]\u001b[0m Trial 26 finished with value: 46.37887450122092 and parameters: {'0': 6, '1': 21, '2': 71, '3': 73, '4': 48, '5': 60}. Best is trial 25 with value: 28.0.\u001b[0m\n",
            "\u001b[32m[I 2021-03-12 22:34:16,252]\u001b[0m Trial 27 finished with value: 25.219040425836983 and parameters: {'0': 19, '1': 60, '2': 55, '3': 45, '4': 61, '5': 62}. Best is trial 27 with value: 25.219040425836983.\u001b[0m\n",
            "\u001b[32m[I 2021-03-12 22:34:16,262]\u001b[0m Trial 28 finished with value: 41.78516483155236 and parameters: {'0': 26, '1': 55, '2': 58, '3': 62, '4': 96, '5': 69}. Best is trial 27 with value: 25.219040425836983.\u001b[0m\n",
            "\u001b[32m[I 2021-03-12 22:34:16,270]\u001b[0m Trial 29 finished with value: 37.49666651850535 and parameters: {'0': 9, '1': 50, '2': 72, '3': 66, '4': 58, '5': 81}. Best is trial 27 with value: 25.219040425836983.\u001b[0m\n",
            "\u001b[32m[I 2021-03-12 22:34:16,278]\u001b[0m Trial 30 finished with value: 44.170125650715555 and parameters: {'0': 30, '1': 75, '2': 49, '3': 50, '4': 46, '5': 47}. Best is trial 27 with value: 25.219040425836983.\u001b[0m\n",
            "\u001b[32m[I 2021-03-12 22:34:16,286]\u001b[0m Trial 31 finished with value: 42.555845661906424 and parameters: {'0': 28, '1': 63, '2': 50, '3': 43, '4': 62, '5': 35}. Best is trial 27 with value: 25.219040425836983.\u001b[0m\n",
            "\u001b[32m[I 2021-03-12 22:34:16,294]\u001b[0m Trial 32 finished with value: 26.324893162176366 and parameters: {'0': 29, '1': 39, '2': 61, '3': 70, '4': 59, '5': 57}. Best is trial 27 with value: 25.219040425836983.\u001b[0m\n",
            "\u001b[32m[I 2021-03-12 22:34:16,301]\u001b[0m Trial 33 finished with value: 20.273134932713294 and parameters: {'0': 41, '1': 42, '2': 49, '3': 34, '4': 58, '5': 75}. Best is trial 33 with value: 20.273134932713294.\u001b[0m\n",
            "\u001b[32m[I 2021-03-12 22:34:16,311]\u001b[0m Trial 34 finished with value: 31.144823004794873 and parameters: {'0': 13, '1': 52, '2': 52, '3': 34, '4': 69, '5': 56}. Best is trial 33 with value: 20.273134932713294.\u001b[0m\n",
            "\u001b[32m[I 2021-03-12 22:34:16,323]\u001b[0m Trial 35 finished with value: 33.27160951922825 and parameters: {'0': 9, '1': 30, '2': 31, '3': 62, '4': 66, '5': 65}. Best is trial 33 with value: 20.273134932713294.\u001b[0m\n",
            "\u001b[32m[I 2021-03-12 22:34:16,331]\u001b[0m Trial 36 finished with value: 40.38564101261734 and parameters: {'0': 7, '1': 32, '2': 42, '3': 55, '4': 35, '5': 52}. Best is trial 33 with value: 20.273134932713294.\u001b[0m\n",
            "\u001b[32m[I 2021-03-12 22:34:16,342]\u001b[0m Trial 37 finished with value: 54.72659317004851 and parameters: {'0': 38, '1': 43, '2': 56, '3': 1, '4': 74, '5': 87}. Best is trial 33 with value: 20.273134932713294.\u001b[0m\n",
            "\u001b[32m[I 2021-03-12 22:34:16,349]\u001b[0m Trial 38 finished with value: 35.90264614203248 and parameters: {'0': 32, '1': 26, '2': 30, '3': 38, '4': 44, '5': 87}. Best is trial 33 with value: 20.273134932713294.\u001b[0m\n",
            "\u001b[32m[I 2021-03-12 22:34:16,359]\u001b[0m Trial 39 finished with value: 28.5657137141714 and parameters: {'0': 29, '1': 34, '2': 31, '3': 70, '4': 63, '5': 73}. Best is trial 33 with value: 20.273134932713294.\u001b[0m\n",
            "\u001b[32m[I 2021-03-12 22:34:16,367]\u001b[0m Trial 40 finished with value: 22.22611077089287 and parameters: {'0': 15, '1': 40, '2': 62, '3': 55, '4': 68, '5': 76}. Best is trial 33 with value: 20.273134932713294.\u001b[0m\n",
            "\u001b[32m[I 2021-03-12 22:34:16,375]\u001b[0m Trial 41 finished with value: 19.974984355438178 and parameters: {'0': 43, '1': 45, '2': 52, '3': 58, '4': 71, '5': 66}. Best is trial 41 with value: 19.974984355438178.\u001b[0m\n",
            "\u001b[32m[I 2021-03-12 22:34:16,383]\u001b[0m Trial 42 finished with value: 37.296112397943034 and parameters: {'0': 48, '1': 72, '2': 49, '3': 55, '4': 61, '5': 66}. Best is trial 41 with value: 19.974984355438178.\u001b[0m\n",
            "\u001b[32m[I 2021-03-12 22:34:16,393]\u001b[0m Trial 43 finished with value: 34.95711658589707 and parameters: {'0': 39, '1': 27, '2': 74, '3': 44, '4': 54, '5': 52}. Best is trial 41 with value: 19.974984355438178.\u001b[0m\n",
            "\u001b[32m[I 2021-03-12 22:34:16,399]\u001b[0m Trial 44 finished with value: 12.609520212918492 and parameters: {'0': 36, '1': 41, '2': 50, '3': 55, '4': 56, '5': 61}. Best is trial 44 with value: 12.609520212918492.\u001b[0m\n",
            "\u001b[32m[I 2021-03-12 22:34:16,407]\u001b[0m Trial 45 finished with value: 30.903074280724887 and parameters: {'0': 39, '1': 50, '2': 70, '3': 57, '4': 42, '5': 71}. Best is trial 44 with value: 12.609520212918492.\u001b[0m\n",
            "\u001b[32m[I 2021-03-12 22:34:16,417]\u001b[0m Trial 46 finished with value: 33.51119216023208 and parameters: {'0': 57, '1': 34, '2': 67, '3': 57, '4': 64, '5': 72}. Best is trial 44 with value: 12.609520212918492.\u001b[0m\n",
            "\u001b[32m[I 2021-03-12 22:34:16,425]\u001b[0m Trial 47 finished with value: 25.11971337416094 and parameters: {'0': 46, '1': 47, '2': 42, '3': 65, '4': 59, '5': 64}. Best is trial 44 with value: 12.609520212918492.\u001b[0m\n",
            "\u001b[32m[I 2021-03-12 22:34:16,432]\u001b[0m Trial 48 finished with value: 33.406586176980134 and parameters: {'0': 47, '1': 41, '2': 38, '3': 62, '4': 37, '5': 67}. Best is trial 44 with value: 12.609520212918492.\u001b[0m\n",
            "\u001b[32m[I 2021-03-12 22:34:16,438]\u001b[0m Trial 49 finished with value: 37.89459064299283 and parameters: {'0': 39, '1': 24, '2': 79, '3': 63, '4': 68, '5': 65}. Best is trial 44 with value: 12.609520212918492.\u001b[0m\n",
            "\u001b[32m[I 2021-03-12 22:34:16,445]\u001b[0m Trial 50 finished with value: 34.058772731852805 and parameters: {'0': 23, '1': 32, '2': 75, '3': 64, '4': 59, '5': 55}. Best is trial 44 with value: 12.609520212918492.\u001b[0m\n",
            "\u001b[32m[I 2021-03-12 22:34:16,452]\u001b[0m Trial 51 finished with value: 24.24871130596428 and parameters: {'0': 29, '1': 50, '2': 36, '3': 67, '4': 59, '5': 69}. Best is trial 44 with value: 12.609520212918492.\u001b[0m\n",
            "\u001b[32m[I 2021-03-12 22:34:16,461]\u001b[0m Trial 52 finished with value: 13.820274961085254 and parameters: {'0': 27, '1': 31, '2': 50, '3': 59, '4': 58, '5': 74}. Best is trial 44 with value: 12.609520212918492.\u001b[0m\n",
            "\u001b[32m[I 2021-03-12 22:34:16,468]\u001b[0m Trial 53 finished with value: 20.904544960366874 and parameters: {'0': 34, '1': 36, '2': 42, '3': 66, '4': 53, '5': 76}. Best is trial 44 with value: 12.609520212918492.\u001b[0m\n",
            "\u001b[32m[I 2021-03-12 22:34:16,476]\u001b[0m Trial 54 finished with value: 27.27636339397171 and parameters: {'0': 33, '1': 37, '2': 38, '3': 67, '4': 62, '5': 87}. Best is trial 44 with value: 12.609520212918492.\u001b[0m\n",
            "\u001b[32m[I 2021-03-12 22:34:16,486]\u001b[0m Trial 55 finished with value: 23.979157616563597 and parameters: {'0': 43, '1': 27, '2': 38, '3': 58, '4': 58, '5': 65}. Best is trial 44 with value: 12.609520212918492.\u001b[0m\n",
            "\u001b[32m[I 2021-03-12 22:34:16,494]\u001b[0m Trial 56 finished with value: 28.583211855912904 and parameters: {'0': 40, '1': 29, '2': 45, '3': 59, '4': 39, '5': 77}. Best is trial 44 with value: 12.609520212918492.\u001b[0m\n",
            "\u001b[32m[I 2021-03-12 22:34:16,503]\u001b[0m Trial 57 finished with value: 34.19064199455752 and parameters: {'0': 28, '1': 17, '2': 43, '3': 61, '4': 39, '5': 75}. Best is trial 44 with value: 12.609520212918492.\u001b[0m\n",
            "\u001b[32m[I 2021-03-12 22:34:16,510]\u001b[0m Trial 58 finished with value: 18.411952639521967 and parameters: {'0': 33, '1': 31, '2': 44, '3': 58, '4': 50, '5': 77}. Best is trial 44 with value: 12.609520212918492.\u001b[0m\n",
            "\u001b[32m[I 2021-03-12 22:34:16,518]\u001b[0m Trial 59 finished with value: 43.54308211415448 and parameters: {'0': 34, '1': 23, '2': 36, '3': 85, '4': 47, '5': 69}. Best is trial 44 with value: 12.609520212918492.\u001b[0m\n"
          ],
          "name": "stderr"
        }
      ]
    },
    {
      "cell_type": "code",
      "metadata": {
        "id": "py1f-UUR2u5d"
      },
      "source": [
        "def objective(trial):\n",
        "    x = trial.suggest_float(\"x\", -10, 10)\n",
        "    y = trial.suggest_int(\"y\", -10, 10)\n",
        "    return x ** 2 - y\n",
        "\n",
        "\n",
        "sampler = optuna.samplers.CmaEsSampler()\n",
        "study = optuna.create_study(sampler=sampler)\n",
        "study.optimize(objective, n_trials=80)"
      ],
      "execution_count": null,
      "outputs": []
    },
    {
      "cell_type": "code",
      "metadata": {
        "id": "UbvHoJflQ1ut"
      },
      "source": [
        ""
      ],
      "execution_count": null,
      "outputs": []
    }
  ]
}